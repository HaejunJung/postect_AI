{
 "cells": [
  {
   "cell_type": "markdown",
   "metadata": {},
   "source": [
    "# KNN"
   ]
  },
  {
   "cell_type": "code",
   "execution_count": 1,
   "metadata": {},
   "outputs": [],
   "source": [
    "#데이터 행렬 연산 패키지\n",
    "import numpy as np\n",
    "#데이터 구성 패키지\n",
    "import pandas as pd\n",
    "#시각화 패키지\n",
    "import seaborn as sns\n",
    "import matplotlib\n",
    "#데이터 시각화 패키지\n",
    "import matplotlib.pyplot as plt\n",
    "#통계분석 패키지\n",
    "import scipy.stats as stats\n",
    "#선형 모델 패키지\n",
    "import statsmodels.api as sm\n",
    "#회귀분석 패키지\n",
    "from statsmodels.formula.api import ols\n",
    "#평가함수 패키지\n",
    "from statsmodels.tools.eval_measures import rmse\n",
    "#주피터사용시 그래프 자동 출력 옵션\n",
    "#다중공선성 패키지 불러오기\n",
    "from statsmodels.stats.outliers_influence import variance_inflation_factor\n",
    "#sklearn 선형회귀 모형 -> 변수 선택법을 위함\n",
    "from sklearn.linear_model import LinearRegression\n",
    "#변수 선택법(후진제거법)\n",
    "from sklearn.feature_selection import RFE\n",
    "#데이터 scale\n",
    "from sklearn.preprocessing import scale\n",
    "\n",
    "\n",
    "from sklearn import metrics\n",
    "\n",
    "\n",
    "# 데이터 분할(train, test 데이터 7:3으로 - sklearn의 train_set_split)\n",
    "from sklearn.model_selection import train_test_split\n",
    "import os\n",
    "#sklearn.tree의 Decision Tree classifier:분류의사결정나무\n",
    "from sklearn.tree import DecisionTreeClassifier\n",
    "#sklearn.tree의 export_graphviz: graphviz패키지가 사용할수 있는.dot 확장자 파일로저장\n",
    "from sklearn.tree import export_graphviz\n",
    "#graphviz import:의사결정 나무 모델 시각화 .dot확장자 파일 불러오는 패키지\n",
    "import graphviz\n",
    "\n",
    "\n",
    "#pandas describe 생략되는 것 표시\n",
    "pd.set_option('display.max_columns', None)  \n",
    "pd.set_option('display.expand_frame_repr', False)\n",
    "pd.set_option('max_colwidth', -1)\n",
    "\n",
    "from sklearn.ensemble import RandomForestClassifier\n",
    "from sklearn.metrics import make_scorer, accuracy_score\n",
    "from sklearn.model_selection import GridSearchCV\n",
    "from sklearn.neighbors import KNeighborsClassifier\n",
    "\n",
    "\n",
    "from sklearn.preprocessing import scale\n",
    "from sklearn.svm import SVC\n",
    "\n",
    "#회귀분석 패키지\n",
    "import statsmodels.api as sm\n",
    "from sklearn.model_selection import train_test_split\n",
    "\n",
    "\n",
    "\n",
    "#그래프 시각화 옵션\n",
    "%matplotlib inline\n",
    "\n",
    "#그래프 한글 설정\n",
    "mpl.rc('font',family = 'Malgun Gothic')\n",
    "\n",
    "#그래프의 한글을 더욱 선명하게 출력\n",
    "from IPython.display import set_matplotlib_formats\n",
    "set_matplotlib_formats('retina')\n",
    "\n",
    "#그래프에서 음수값이 깨질때\n",
    "mpl.rc(\"axes\",unicode_minus=False)\n",
    "\n",
    "\n",
    "\n",
    "import warnings\n",
    "warnings.filterwarnings('ignore')"
   ]
  },
  {
   "cell_type": "markdown",
   "metadata": {},
   "source": [
    "## Data Loading"
   ]
  },
  {
   "cell_type": "code",
   "execution_count": 2,
   "metadata": {},
   "outputs": [],
   "source": [
    "b_cancer = pd.read_csv(\"/home/pirl/Downloads/유방암.csv\",engine = 'python',\n",
    "                        encoding='CP949')"
   ]
  },
  {
   "cell_type": "code",
   "execution_count": 3,
   "metadata": {},
   "outputs": [
    {
     "data": {
      "text/plain": [
       "<matplotlib.axes._subplots.AxesSubplot at 0x7f08bc39c470>"
      ]
     },
     "execution_count": 3,
     "metadata": {},
     "output_type": "execute_result"
    },
    {
     "data": {
      "image/png": "[encoded data removed]",
      "text/plain": [
       "<Figure size 432x288 with 1 Axes>"
      ]
     },
     "metadata": {
      "needs_background": "light"
     },
     "output_type": "display_data"
    }
   ],
   "source": [
    "sns.countplot(b_cancer['diagnosis'],  palette = \"husl\")"
   ]
  },
  {
   "cell_type": "markdown",
   "metadata": {},
   "source": [
    "## Data Split"
   ]
  },
  {
   "cell_type": "code",
   "execution_count": 4,
   "metadata": {},
   "outputs": [
    {
     "name": "stdout",
     "output_type": "stream",
     "text": [
      "train data X size: (398, 30)\n",
      "train data Y size: (398,)\n",
      "test data X size: (171, 30)\n",
      "test data Y size: (171,)\n"
     ]
    }
   ],
   "source": [
    "b_cancer_y = b_cancer['diagnosis']\n",
    "b_cancer_x = b_cancer.drop('diagnosis',axis=1, inplace=False)\n",
    "\n",
    "# train/test 데이터의 목표변수/설명변수 지정\n",
    "b_train_x, b_test_x, b_train_y, b_test_y = \\\n",
    "train_test_split(b_cancer_x, b_cancer_y, test_size=0.3, random_state=1234)\n",
    "\n",
    "# train데이터와 test데이터 크기\n",
    "print(\"train data X size: {}\".format(b_train_x.shape))\n",
    "print(\"train data Y size: {}\".format(b_train_y.shape))\n",
    "print(\"test data X size: {}\".format(b_test_x.shape))\n",
    "print(\"test data Y size: {}\".format(b_test_y.shape))"
   ]
  },
  {
   "cell_type": "markdown",
   "metadata": {},
   "source": [
    "## KNN Modeling"
   ]
  },
  {
   "cell_type": "code",
   "execution_count": 5,
   "metadata": {},
   "outputs": [
    {
     "data": {
      "text/html": [
       "<div>\n",
       "<style scoped>\n",
       "    .dataframe tbody tr th:only-of-type {\n",
       "        vertical-align: middle;\n",
       "    }\n",
       "\n",
       "    .dataframe tbody tr th {\n",
       "        vertical-align: top;\n",
       "    }\n",
       "\n",
       "    .dataframe thead th {\n",
       "        text-align: right;\n",
       "    }\n",
       "</style>\n",
       "<table border=\"1\" class=\"dataframe\">\n",
       "  <thead>\n",
       "    <tr style=\"text-align: right;\">\n",
       "      <th></th>\n",
       "      <th>Neighbors</th>\n",
       "      <th>TrainAccuracy</th>\n",
       "      <th>TestAccuracy</th>\n",
       "    </tr>\n",
       "  </thead>\n",
       "  <tbody>\n",
       "    <tr>\n",
       "      <th>0</th>\n",
       "      <td>2</td>\n",
       "      <td>0.959799</td>\n",
       "      <td>0.918129</td>\n",
       "    </tr>\n",
       "    <tr>\n",
       "      <th>1</th>\n",
       "      <td>3</td>\n",
       "      <td>0.952261</td>\n",
       "      <td>0.929825</td>\n",
       "    </tr>\n",
       "    <tr>\n",
       "      <th>2</th>\n",
       "      <td>4</td>\n",
       "      <td>0.947236</td>\n",
       "      <td>0.918129</td>\n",
       "    </tr>\n",
       "    <tr>\n",
       "      <th>3</th>\n",
       "      <td>5</td>\n",
       "      <td>0.944724</td>\n",
       "      <td>0.935673</td>\n",
       "    </tr>\n",
       "    <tr>\n",
       "      <th>4</th>\n",
       "      <td>6</td>\n",
       "      <td>0.942211</td>\n",
       "      <td>0.923977</td>\n",
       "    </tr>\n",
       "    <tr>\n",
       "      <th>5</th>\n",
       "      <td>7</td>\n",
       "      <td>0.937186</td>\n",
       "      <td>0.941520</td>\n",
       "    </tr>\n",
       "    <tr>\n",
       "      <th>6</th>\n",
       "      <td>8</td>\n",
       "      <td>0.939698</td>\n",
       "      <td>0.935673</td>\n",
       "    </tr>\n",
       "    <tr>\n",
       "      <th>7</th>\n",
       "      <td>9</td>\n",
       "      <td>0.939698</td>\n",
       "      <td>0.929825</td>\n",
       "    </tr>\n",
       "    <tr>\n",
       "      <th>8</th>\n",
       "      <td>10</td>\n",
       "      <td>0.934673</td>\n",
       "      <td>0.923977</td>\n",
       "    </tr>\n",
       "    <tr>\n",
       "      <th>9</th>\n",
       "      <td>11</td>\n",
       "      <td>0.939698</td>\n",
       "      <td>0.935673</td>\n",
       "    </tr>\n",
       "    <tr>\n",
       "      <th>10</th>\n",
       "      <td>12</td>\n",
       "      <td>0.934673</td>\n",
       "      <td>0.923977</td>\n",
       "    </tr>\n",
       "    <tr>\n",
       "      <th>11</th>\n",
       "      <td>13</td>\n",
       "      <td>0.934673</td>\n",
       "      <td>0.923977</td>\n",
       "    </tr>\n",
       "    <tr>\n",
       "      <th>12</th>\n",
       "      <td>14</td>\n",
       "      <td>0.932161</td>\n",
       "      <td>0.923977</td>\n",
       "    </tr>\n",
       "    <tr>\n",
       "      <th>13</th>\n",
       "      <td>15</td>\n",
       "      <td>0.932161</td>\n",
       "      <td>0.923977</td>\n",
       "    </tr>\n",
       "    <tr>\n",
       "      <th>14</th>\n",
       "      <td>16</td>\n",
       "      <td>0.929648</td>\n",
       "      <td>0.923977</td>\n",
       "    </tr>\n",
       "    <tr>\n",
       "      <th>15</th>\n",
       "      <td>17</td>\n",
       "      <td>0.929648</td>\n",
       "      <td>0.923977</td>\n",
       "    </tr>\n",
       "    <tr>\n",
       "      <th>16</th>\n",
       "      <td>18</td>\n",
       "      <td>0.929648</td>\n",
       "      <td>0.923977</td>\n",
       "    </tr>\n",
       "    <tr>\n",
       "      <th>17</th>\n",
       "      <td>19</td>\n",
       "      <td>0.932161</td>\n",
       "      <td>0.923977</td>\n",
       "    </tr>\n",
       "    <tr>\n",
       "      <th>18</th>\n",
       "      <td>20</td>\n",
       "      <td>0.924623</td>\n",
       "      <td>0.912281</td>\n",
       "    </tr>\n",
       "    <tr>\n",
       "      <th>19</th>\n",
       "      <td>21</td>\n",
       "      <td>0.924623</td>\n",
       "      <td>0.923977</td>\n",
       "    </tr>\n",
       "    <tr>\n",
       "      <th>20</th>\n",
       "      <td>22</td>\n",
       "      <td>0.922111</td>\n",
       "      <td>0.912281</td>\n",
       "    </tr>\n",
       "    <tr>\n",
       "      <th>21</th>\n",
       "      <td>23</td>\n",
       "      <td>0.922111</td>\n",
       "      <td>0.912281</td>\n",
       "    </tr>\n",
       "    <tr>\n",
       "      <th>22</th>\n",
       "      <td>24</td>\n",
       "      <td>0.919598</td>\n",
       "      <td>0.912281</td>\n",
       "    </tr>\n",
       "    <tr>\n",
       "      <th>23</th>\n",
       "      <td>25</td>\n",
       "      <td>0.919598</td>\n",
       "      <td>0.912281</td>\n",
       "    </tr>\n",
       "    <tr>\n",
       "      <th>24</th>\n",
       "      <td>26</td>\n",
       "      <td>0.917085</td>\n",
       "      <td>0.894737</td>\n",
       "    </tr>\n",
       "    <tr>\n",
       "      <th>25</th>\n",
       "      <td>27</td>\n",
       "      <td>0.919598</td>\n",
       "      <td>0.900585</td>\n",
       "    </tr>\n",
       "    <tr>\n",
       "      <th>26</th>\n",
       "      <td>28</td>\n",
       "      <td>0.912060</td>\n",
       "      <td>0.894737</td>\n",
       "    </tr>\n",
       "    <tr>\n",
       "      <th>27</th>\n",
       "      <td>29</td>\n",
       "      <td>0.914573</td>\n",
       "      <td>0.900585</td>\n",
       "    </tr>\n",
       "  </tbody>\n",
       "</table>\n",
       "</div>"
      ],
      "text/plain": [
       "    Neighbors  TrainAccuracy  TestAccuracy\n",
       "0   2          0.959799       0.918129    \n",
       "1   3          0.952261       0.929825    \n",
       "2   4          0.947236       0.918129    \n",
       "3   5          0.944724       0.935673    \n",
       "4   6          0.942211       0.923977    \n",
       "5   7          0.937186       0.941520    \n",
       "6   8          0.939698       0.935673    \n",
       "7   9          0.939698       0.929825    \n",
       "8   10         0.934673       0.923977    \n",
       "9   11         0.939698       0.935673    \n",
       "10  12         0.934673       0.923977    \n",
       "11  13         0.934673       0.923977    \n",
       "12  14         0.932161       0.923977    \n",
       "13  15         0.932161       0.923977    \n",
       "14  16         0.929648       0.923977    \n",
       "15  17         0.929648       0.923977    \n",
       "16  18         0.929648       0.923977    \n",
       "17  19         0.932161       0.923977    \n",
       "18  20         0.924623       0.912281    \n",
       "19  21         0.924623       0.923977    \n",
       "20  22         0.922111       0.912281    \n",
       "21  23         0.922111       0.912281    \n",
       "22  24         0.919598       0.912281    \n",
       "23  25         0.919598       0.912281    \n",
       "24  26         0.917085       0.894737    \n",
       "25  27         0.919598       0.900585    \n",
       "26  28         0.912060       0.894737    \n",
       "27  29         0.914573       0.900585    "
      ]
     },
     "execution_count": 5,
     "metadata": {},
     "output_type": "execute_result"
    }
   ],
   "source": [
    "# 반복 수행할 리스트(3~30)\n",
    "para_n_neighbors = [i for i in range(2,30)]\n",
    "train_accuracy = []\n",
    "test_accuracy = []\n",
    "# 반복문\n",
    "for n_neighbors in para_n_neighbors:\n",
    "    # 이웃 3~33개 까지 지정해 모델 생성\n",
    "    clf = KNeighborsClassifier(n_neighbors=n_neighbors)\n",
    "    clf.fit(b_train_x,b_train_y)\n",
    "    # train data 정확도\n",
    "    train_accuracy.append(clf.score(b_train_x,b_train_y))\n",
    "    # test data 정확도\n",
    "    test_accuracy.append(clf.score(b_test_x,b_test_y))\n",
    "# DataFrame 변환\n",
    "ds_neighbors = pd.DataFrame()\n",
    "ds_neighbors[\"Neighbors\"]=para_n_neighbors\n",
    "ds_neighbors[\"TrainAccuracy\"]=train_accuracy\n",
    "ds_neighbors[\"TestAccuracy\"]=test_accuracy\n",
    "ds_neighbors"
   ]
  },
  {
   "cell_type": "code",
   "execution_count": 6,
   "metadata": {},
   "outputs": [
    {
     "data": {
      "text/plain": [
       "<matplotlib.axes._subplots.AxesSubplot at 0x7f08865dfd68>"
      ]
     },
     "execution_count": 6,
     "metadata": {},
     "output_type": "execute_result"
    },
    {
     "data": {
      "image/png": "[encoded data removed]",
      "text/plain": [
       "<Figure size 432x288 with 1 Axes>"
      ]
     },
     "metadata": {
      "needs_background": "light"
     },
     "output_type": "display_data"
    }
   ],
   "source": [
    "# 그래프 생성\n",
    "ds_neighbors.set_index(\"Neighbors\",inplace =False).plot()"
   ]
  },
  {
   "cell_type": "markdown",
   "metadata": {},
   "source": [
    "#### 이웃수가 3, 7일때 가장 높은 정확도를 보이며 이웃수7를 사용하는게 조금더 크게 군집할수 있기에 이웃수 7이 최적이라고 판단된다."
   ]
  },
  {
   "cell_type": "code",
   "execution_count": 7,
   "metadata": {},
   "outputs": [
    {
     "data": {
      "text/plain": [
       "KNeighborsClassifier(algorithm='auto', leaf_size=30, metric='minkowski',\n",
       "           metric_params=None, n_jobs=None, n_neighbors=7, p=2,\n",
       "           weights='uniform')"
      ]
     },
     "execution_count": 7,
     "metadata": {},
     "output_type": "execute_result"
    }
   ],
   "source": [
    "knn = KNeighborsClassifier(n_neighbors=7)\n",
    "knn.fit(b_train_x,b_train_y)"
   ]
  },
  {
   "cell_type": "code",
   "execution_count": 8,
   "metadata": {},
   "outputs": [
    {
     "data": {
      "text/plain": [
       "0.9415204678362573"
      ]
     },
     "execution_count": 8,
     "metadata": {},
     "output_type": "execute_result"
    }
   ],
   "source": [
    "knn.score(b_test_x,b_test_y)"
   ]
  },
  {
   "cell_type": "markdown",
   "metadata": {},
   "source": [
    "## Optimization"
   ]
  },
  {
   "cell_type": "code",
   "execution_count": 9,
   "metadata": {},
   "outputs": [],
   "source": [
    "max_n_neighbors = 10\n",
    "para_n_neighbors = [i+1 for i in range(max_n_neighbors)]*2\n",
    "\n",
    "para_weights = [\"uniform\"]*max_n_neighbors + [\"distance\"]*max_n_neighbors\n",
    "\n",
    "train_accuracy=[]\n",
    "test_accuracy=[]\n",
    "\n",
    "for(n_neighbors, weights) in zip(para_n_neighbors, para_weights):\n",
    "    clf = KNeighborsClassifier(n_neighbors=n_neighbors, weights=weights)\n",
    "    clf.fit(b_train_x,b_train_y)\n",
    "    train_accuracy.append(clf.score(b_train_x, b_train_y))\n",
    "    test_accuracy.append(clf.score(b_test_x, b_test_y))\n",
    "    \n",
    "ds_neighbors = pd.DataFrame()\n",
    "\n",
    "ds_neighbors[\"Neighbors\"] = para_n_neighbors\n",
    "ds_neighbors[\"Weights\"] = para_weights\n",
    "ds_neighbors[\"TrainAccuracy\"] = train_accuracy\n",
    "ds_neighbors[\"TestAccuracy\"] = test_accuracy\n",
    "#ds_neighbors_weight"
   ]
  },
  {
   "cell_type": "code",
   "execution_count": 10,
   "metadata": {},
   "outputs": [
    {
     "data": {
      "image/png": "[encoded data removed]",
      "text/plain": [
       "<Figure size 432x288 with 1 Axes>"
      ]
     },
     "metadata": {
      "needs_background": "light"
     },
     "output_type": "display_data"
    }
   ],
   "source": [
    "ds_neighbors_weight_melt = pd.melt(ds_neighbors, id_vars=[\"Neighbors\",\"Weights\"])\n",
    "ds_neighbors_weight_melt[\"Accuracy\"] = ds_neighbors_weight_melt[\"Weights\"]+ds_neighbors_weight_melt[\"variable\"]\n",
    "\n",
    "ax=sns.lineplot(x=\"Neighbors\",y=\"value\",hue=\"Accuracy\",data=ds_neighbors_weight_melt)"
   ]
  },
  {
   "cell_type": "markdown",
   "metadata": {},
   "source": [
    "#### distance 가중치에 이웃수 6이 가장 높은 정확도를 가진다."
   ]
  },
  {
   "cell_type": "code",
   "execution_count": 11,
   "metadata": {},
   "outputs": [],
   "source": [
    "max_n_neighbors = 10\n",
    "para_n_neighbors = [i+1 for i in range(max_n_neighbors)]*3\n",
    "para_algorithm = [\"ball_tree\"]*max_n_neighbors+[\"kd_tree\"]*max_n_neighbors+[\"brute\"]*max_n_neighbors\n",
    "\n",
    "train_accuracy = []; test_accuracy=[]\n",
    "\n",
    "for (n_neighbors,algorithm) in zip(para_n_neighbors, para_algorithm):\n",
    "    clf = KNeighborsClassifier(n_neighbors=n_neighbors, weights=\"uniform\",algorithm=algorithm)\n",
    "    clf.fit(b_train_x, b_train_y)\n",
    "    train_accuracy.append(clf.score(b_train_x,b_train_y))\n",
    "    test_accuracy.append(clf.score(b_test_x,b_test_y))\n",
    "    \n",
    "ds_neighbors = pd.DataFrame()\n",
    "ds_neighbors[\"Neighbors\"] = para_n_neighbors\n",
    "ds_neighbors[\"Algorithm\"] = para_algorithm\n",
    "ds_neighbors[\"TrainAccuracy\"] = train_accuracy\n",
    "ds_neighbors[\"TestAccuracy\"] = test_accuracy"
   ]
  },
  {
   "cell_type": "code",
   "execution_count": 12,
   "metadata": {},
   "outputs": [
    {
     "data": {
      "image/png": "[encoded data removed]",
      "text/plain": [
       "<Figure size 432x288 with 1 Axes>"
      ]
     },
     "metadata": {
      "needs_background": "light"
     },
     "output_type": "display_data"
    }
   ],
   "source": [
    "ds_neighbors_algorithm_melt = pd.melt(ds_neighbors, id_vars=[\"Neighbors\",\"Algorithm\"])\n",
    "ds_neighbors_algorithm_melt[\"Accuracy\"] = ds_neighbors_algorithm_melt[\"Algorithm\"]+\"_\"+ds_neighbors_algorithm_melt[\"variable\"]\n",
    "\n",
    "ax=sns.lineplot(x=\"Neighbors\",y=\"value\",hue=\"Accuracy\",data=ds_neighbors_algorithm_melt)"
   ]
  },
  {
   "cell_type": "markdown",
   "metadata": {},
   "source": [
    "#### 모두 똑같은 정확도를 가진다."
   ]
  },
  {
   "cell_type": "code",
   "execution_count": 13,
   "metadata": {},
   "outputs": [],
   "source": [
    "max_n_neighbors = 10\n",
    "para_n_neighbors = [i+1 for i in range(max_n_neighbors)]*3\n",
    "\n",
    "para_metric = [\"minkowski\"]*max_n_neighbors + [\"euclidean\"]*max_n_neighbors+[\"manhattan\"]*max_n_neighbors\n",
    "\n",
    "train_accuracy=[]\n",
    "test_accuracy=[]\n",
    "\n",
    "for(n_neighbors, metric) in zip(para_n_neighbors, para_metric):\n",
    "    clf = KNeighborsClassifier(n_neighbors=n_neighbors, weights=\"uniform\",algorithm=\"ball_tree\",metric=metric)\n",
    "    clf.fit(b_train_x, b_train_y)\n",
    "    train_accuracy.append(clf.score(b_train_x, b_train_y))\n",
    "    test_accuracy.append(clf.score(b_test_x, b_test_y))\n",
    "    \n",
    "ds_neighbors = pd.DataFrame()\n",
    "\n",
    "ds_neighbors[\"Neighbors\"] = para_n_neighbors\n",
    "ds_neighbors[\"Metric\"] = para_metric\n",
    "ds_neighbors[\"TrainAccuracy\"] = train_accuracy\n",
    "ds_neighbors[\"TestAccuracy\"] = test_accuracy\n"
   ]
  },
  {
   "cell_type": "code",
   "execution_count": 14,
   "metadata": {},
   "outputs": [
    {
     "data": {
      "image/png": "[encoded data removed]",
      "text/plain": [
       "<Figure size 432x288 with 1 Axes>"
      ]
     },
     "metadata": {
      "needs_background": "light"
     },
     "output_type": "display_data"
    }
   ],
   "source": [
    "ds_neighbors_metric_melt = pd.melt(ds_neighbors, id_vars=[\"Neighbors\",\"Metric\"])\n",
    "ds_neighbors_metric_melt[\"Accuracy\"] = ds_neighbors_metric_melt[\"Metric\"]+\"_\"+ds_neighbors_metric_melt[\"variable\"]\n",
    "\n",
    "ax = sns.lineplot(x=\"Neighbors\",y='value',hue='Accuracy',data=ds_neighbors_metric_melt)"
   ]
  },
  {
   "cell_type": "markdown",
   "metadata": {},
   "source": [
    "#### manhattan과 이웃수5개가 가장 좋은 정확도를 가진다."
   ]
  },
  {
   "cell_type": "markdown",
   "metadata": {},
   "source": [
    "## Final Model"
   ]
  },
  {
   "cell_type": "code",
   "execution_count": 15,
   "metadata": {},
   "outputs": [
    {
     "name": "stdout",
     "output_type": "stream",
     "text": [
      "train data accuracy: 1.000\n",
      "test data accuracy: 0.942\n"
     ]
    }
   ],
   "source": [
    "clf_model = KNeighborsClassifier(n_neighbors=5, weights='distance', algorithm=\"brute\",metric=\"manhattan\")\n",
    "clf_model.fit(b_train_x, b_train_y)\n",
    "print(\"train data accuracy: {0:.3f}\".format(clf_model.score(b_train_x, b_train_y)))\n",
    "print(\"test data accuracy: {0:.3f}\".format(clf_model.score(b_test_x,b_test_y)))"
   ]
  },
  {
   "cell_type": "markdown",
   "metadata": {},
   "source": [
    "## 매개변수 조정후 0.1%의 정확도를 얻었다. 결과적으로 최적의 이웃수는 5이며, distance 가중치, brute 알고리즘, manhattan거리 계산을 이용한 모델이 가장 정확하다."
   ]
  },
  {
   "cell_type": "code",
   "execution_count": null,
   "metadata": {},
   "outputs": [],
   "source": []
  }
 ],
 "metadata": {
  "kernelspec": {
   "display_name": "Python 3",
   "language": "python",
   "name": "python3"
  },
  "language_info": {
   "codemirror_mode": {
    "name": "ipython",
    "version": 3
   },
   "file_extension": ".py",
   "mimetype": "text/x-python",
   "name": "python",
   "nbconvert_exporter": "python",
   "pygments_lexer": "ipython3",
   "version": "3.7.1"
  }
 },
 "nbformat": 4,
 "nbformat_minor": 2
}
