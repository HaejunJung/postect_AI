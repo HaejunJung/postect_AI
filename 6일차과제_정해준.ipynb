{
 "cells": [
  {
   "cell_type": "code",
   "execution_count": 12,
   "metadata": {},
   "outputs": [],
   "source": [
    "import pandas as pd\n",
    "import numpy as np\n",
    "import statsmodels.api as sm\n",
    "import matplotlib.pyplot as plt\n",
    "import seaborn as sns\n",
    "import scipy.stats as stats\n",
    "from sklearn import metrics\n",
    "from sklearn.preprocessing import scale\n",
    "\n",
    "import os\n",
    "#sklearn.tree의 Decision Tree classifier:분류의사결정나무\n",
    "from sklearn.tree import DecisionTreeClassifier\n",
    "#sklearn.tree의 export_graphviz: graphviz패키지가 사용할수 있는.dot 확장자 파일로저장\n",
    "from sklearn.tree import export_graphviz\n",
    "#graphviz import:의사결정 나무 모델 시각화 .dot확장자 파일 불러오는 패키지\n",
    "import graphviz\n",
    "\n",
    "#pandas describe 생략되는 것 표시\n",
    "pd.set_option('display.max_columns', None)  \n",
    "pd.set_option('display.expand_frame_repr', False)\n",
    "pd.set_option('max_colwidth', -1)\n",
    "\n",
    "from sklearn.ensemble import RandomForestClassifier\n",
    "from sklearn.metrics import make_scorer, accuracy_score\n",
    "from sklearn.model_selection import GridSearchCV\n",
    "\n",
    "from sklearn.preprocessing import scale\n",
    "from sklearn.svm import SVC\n",
    "\n",
    "import warnings\n",
    "warnings.filterwarnings('ignore')"
   ]
  },
  {
   "cell_type": "code",
   "execution_count": 8,
   "metadata": {},
   "outputs": [],
   "source": [
    "b_cancer = pd.read_csv(\"/home/pirl/Downloads/유방암.csv\",engine = 'python',\n",
    "                        encoding='CP949')\n",
    "#sns.countplot(b_cancer[\"diagnosis\"],label=\"Count\")\n",
    "#b_cancer.describe()\n",
    "# print(b_cancer.isnull().sum(axis=0))\n",
    "#b_cancer.head()"
   ]
  },
  {
   "cell_type": "code",
   "execution_count": 9,
   "metadata": {},
   "outputs": [
    {
     "name": "stdout",
     "output_type": "stream",
     "text": [
      "train data X size: (385, 30)\n",
      "train data Y size: (385,)\n",
      "test data X size: (184, 30)\n",
      "test data X size: (184,)\n"
     ]
    }
   ],
   "source": [
    "#데이터 구성하기\n",
    "#데이터분할(train,test 7:3비율로 분할,numpy의 random 함수 이용 방법)\n",
    "np.random.seed(1234)\n",
    "#0.7보다 작으면 true, -> train, 아니면 false -> test\n",
    "msk = np.random.rand(b_cancer.shape[0]) < 0.7\n",
    "b_train = b_cancer[msk]\n",
    "b_test = b_cancer[~msk]\n",
    "#train/test 데이터의 목표변수 설명변수 지정\n",
    "b_train_y = b_train[\"diagnosis\"]\n",
    "b_train_x = b_train.drop(\"diagnosis\",axis=1,inplace=False)\n",
    "b_test_y = b_test[\"diagnosis\"]\n",
    "b_test_x = b_test.drop(\"diagnosis\",axis=1,inplace=False)\n",
    "#데이터 크기\n",
    "print(\"train data X size: {}\".format(b_train_x.shape))\n",
    "print(\"train data Y size: {}\".format(b_train_y.shape))\n",
    "print(\"test data X size: {}\".format(b_test_x.shape))\n",
    "print(\"test data X size: {}\".format(b_test_y.shape))"
   ]
  },
  {
   "cell_type": "code",
   "execution_count": 15,
   "metadata": {},
   "outputs": [
    {
     "name": "stdout",
     "output_type": "stream",
     "text": [
      "Accuracy on training set:1.000\n",
      "Accuracy on training set:0.652\n",
      "\n",
      "SVC(C=1.0, cache_size=200, class_weight=None, coef0=0.0,\n",
      "  decision_function_shape='ovr', degree=3, gamma='auto_deprecated',\n",
      "  kernel='rbf', max_iter=-1, probability=False, random_state=1234,\n",
      "  shrinking=True, tol=0.001, verbose=False)\n"
     ]
    }
   ],
   "source": [
    "svm_un=SVC(random_state=1234)\n",
    "svm_un.fit(b_train_x,b_train_y)\n",
    "\n",
    "print(\"Accuracy on training set:{:.3f}\".format(svm_un.score(b_train_x,b_train_y)))\n",
    "print(\"Accuracy on training set:{:.3f}\".format(svm_un.score(b_test_x,b_test_y)))\n",
    "print()\n",
    "print(svm_un)"
   ]
  },
  {
   "cell_type": "code",
   "execution_count": null,
   "metadata": {},
   "outputs": [],
   "source": [
    "#### 설명변수에 스케일없이 바로 SVM모델링하였고, 정확도는 65%정도로 상당히 낮은 결과를 보여주었다. "
   ]
  },
  {
   "cell_type": "code",
   "execution_count": 17,
   "metadata": {},
   "outputs": [],
   "source": [
    "#C를 0.1부터 1까지 0.1단위 조정\n",
    "train_ac=[]\n",
    "test_ac=[]\n",
    "para_C=[]\n",
    "\n",
    "for C in range(10):\n",
    "    svm1 = SVC(C=(C+1)/10,random_state=1234)\n",
    "    svm1.fit(b_train_x, b_train_y)\n",
    "    para_C.append((C+1)/10)\n",
    "    train_ac.append(svm1.score(b_train_x,b_train_y))\n",
    "    test_ac.append(svm1.score(b_test_x,b_test_y))\n",
    "    \n",
    "ds_acc1 =  pd.DataFrame()\n",
    "ds_acc1['C'] = para_C\n",
    "ds_acc1[\"TrainAccuraccy\"] =train_ac\n",
    "ds_acc1[\"TestAccuracy\"] = test_ac"
   ]
  },
  {
   "cell_type": "code",
   "execution_count": 18,
   "metadata": {},
   "outputs": [
    {
     "data": {
      "text/plain": [
       "<matplotlib.axes._subplots.AxesSubplot at 0x7f48d15ff6d8>"
      ]
     },
     "execution_count": 18,
     "metadata": {},
     "output_type": "execute_result"
    },
    {
     "data": {
      "image/png": "[encoded data removed]",
      "text/plain": [
       "<Figure size 432x288 with 1 Axes>"
      ]
     },
     "metadata": {
      "needs_background": "light"
     },
     "output_type": "display_data"
    }
   ],
   "source": [
    "ds_acc1.round(3)\n",
    "ds_acc1.set_index(\"C\",inplace=False).plot.line()"
   ]
  },
  {
   "cell_type": "code",
   "execution_count": 22,
   "metadata": {},
   "outputs": [],
   "source": [
    "#Gamma를 0.1부터 1까지 0.1단위 조정\n",
    "train_ac=[]\n",
    "test_ac=[]\n",
    "para_g=[]\n",
    "\n",
    "for gamma in range(1,10):\n",
    "    svm2 = SVC(gamma=gamma/10,random_state=1234)\n",
    "    svm2.fit(b_train_x, b_train_y)\n",
    "    para_g.append(gamma/10)\n",
    "    train_ac.append(svm2.score(b_train_x,b_train_y))\n",
    "    test_ac.append(svm2.score(b_test_x,b_test_y))\n",
    "    \n",
    "ds_acc2 =  pd.DataFrame()\n",
    "ds_acc2['Gamma'] = para_g\n",
    "ds_acc2[\"TrainAccuraccy\"] =train_ac\n",
    "ds_acc2[\"TestAccuracy\"] = test_ac"
   ]
  },
  {
   "cell_type": "code",
   "execution_count": 23,
   "metadata": {},
   "outputs": [
    {
     "data": {
      "text/plain": [
       "<matplotlib.axes._subplots.AxesSubplot at 0x7f48d10dff60>"
      ]
     },
     "execution_count": 23,
     "metadata": {},
     "output_type": "execute_result"
    },
    {
     "data": {
      "image/png": "[encoded data removed]",
      "text/plain": [
       "<Figure size 432x288 with 1 Axes>"
      ]
     },
     "metadata": {
      "needs_background": "light"
     },
     "output_type": "display_data"
    }
   ],
   "source": [
    "ds_acc2.round(3)\n",
    "ds_acc2.set_index(\"Gamma\",inplace=False).plot.line()"
   ]
  },
  {
   "cell_type": "code",
   "execution_count": 25,
   "metadata": {},
   "outputs": [
    {
     "data": {
      "text/html": [
       "<div>\n",
       "<style scoped>\n",
       "    .dataframe tbody tr th:only-of-type {\n",
       "        vertical-align: middle;\n",
       "    }\n",
       "\n",
       "    .dataframe tbody tr th {\n",
       "        vertical-align: top;\n",
       "    }\n",
       "\n",
       "    .dataframe thead th {\n",
       "        text-align: right;\n",
       "    }\n",
       "</style>\n",
       "<table border=\"1\" class=\"dataframe\">\n",
       "  <thead>\n",
       "    <tr style=\"text-align: right;\">\n",
       "      <th></th>\n",
       "      <th>mean radius</th>\n",
       "      <th>mean texture</th>\n",
       "      <th>mean perimeter</th>\n",
       "      <th>mean area</th>\n",
       "      <th>mean smoothness</th>\n",
       "      <th>mean compactness</th>\n",
       "      <th>mean concavity</th>\n",
       "      <th>mean concave points</th>\n",
       "      <th>mean symmetry</th>\n",
       "      <th>mean fractal dimension</th>\n",
       "      <th>radius error</th>\n",
       "      <th>texture error</th>\n",
       "      <th>perimeter error</th>\n",
       "      <th>area error</th>\n",
       "      <th>smoothness error</th>\n",
       "      <th>compactness error</th>\n",
       "      <th>concavity error</th>\n",
       "      <th>concave points error</th>\n",
       "      <th>symmetry error</th>\n",
       "      <th>fractal dimension error</th>\n",
       "      <th>worst radius</th>\n",
       "      <th>worst texture</th>\n",
       "      <th>worst perimeter</th>\n",
       "      <th>worst area</th>\n",
       "      <th>worst smoothness</th>\n",
       "      <th>worst compactness</th>\n",
       "      <th>worst concavity</th>\n",
       "      <th>worst concave points</th>\n",
       "      <th>worst symmetry</th>\n",
       "      <th>worst fractal dimension</th>\n",
       "    </tr>\n",
       "  </thead>\n",
       "  <tbody>\n",
       "    <tr>\n",
       "      <th>0</th>\n",
       "      <td>1.034153</td>\n",
       "      <td>-2.040907</td>\n",
       "      <td>1.201746</td>\n",
       "      <td>0.913932</td>\n",
       "      <td>1.568430</td>\n",
       "      <td>3.222477</td>\n",
       "      <td>2.556376</td>\n",
       "      <td>2.431039</td>\n",
       "      <td>2.260749</td>\n",
       "      <td>2.388981</td>\n",
       "      <td>2.313143</td>\n",
       "      <td>-0.539984</td>\n",
       "      <td>2.577914</td>\n",
       "      <td>2.279170</td>\n",
       "      <td>-0.172321</td>\n",
       "      <td>1.231183</td>\n",
       "      <td>0.634248</td>\n",
       "      <td>0.579991</td>\n",
       "      <td>1.123777</td>\n",
       "      <td>0.814252</td>\n",
       "      <td>1.856617</td>\n",
       "      <td>-1.340180</td>\n",
       "      <td>2.256284</td>\n",
       "      <td>1.981249</td>\n",
       "      <td>1.369113</td>\n",
       "      <td>2.559731</td>\n",
       "      <td>2.062455</td>\n",
       "      <td>2.222408</td>\n",
       "      <td>2.981240</td>\n",
       "      <td>2.037489</td>\n",
       "    </tr>\n",
       "    <tr>\n",
       "      <th>1</th>\n",
       "      <td>1.762845</td>\n",
       "      <td>-0.339344</td>\n",
       "      <td>1.614265</td>\n",
       "      <td>1.818637</td>\n",
       "      <td>-0.814344</td>\n",
       "      <td>-0.520929</td>\n",
       "      <td>-0.062085</td>\n",
       "      <td>0.494636</td>\n",
       "      <td>0.011884</td>\n",
       "      <td>-0.890952</td>\n",
       "      <td>0.445579</td>\n",
       "      <td>-0.845669</td>\n",
       "      <td>0.209500</td>\n",
       "      <td>0.663077</td>\n",
       "      <td>-0.571100</td>\n",
       "      <td>-0.711593</td>\n",
       "      <td>-0.438542</td>\n",
       "      <td>0.198585</td>\n",
       "      <td>-0.800247</td>\n",
       "      <td>-0.113605</td>\n",
       "      <td>1.775545</td>\n",
       "      <td>-0.351425</td>\n",
       "      <td>1.489403</td>\n",
       "      <td>1.870090</td>\n",
       "      <td>-0.341948</td>\n",
       "      <td>-0.457913</td>\n",
       "      <td>-0.174963</td>\n",
       "      <td>1.031413</td>\n",
       "      <td>-0.228790</td>\n",
       "      <td>0.308815</td>\n",
       "    </tr>\n",
       "    <tr>\n",
       "      <th>2</th>\n",
       "      <td>1.514299</td>\n",
       "      <td>0.461934</td>\n",
       "      <td>1.495819</td>\n",
       "      <td>1.476241</td>\n",
       "      <td>0.945482</td>\n",
       "      <td>1.007967</td>\n",
       "      <td>1.295044</td>\n",
       "      <td>1.947756</td>\n",
       "      <td>0.964040</td>\n",
       "      <td>-0.396878</td>\n",
       "      <td>1.129958</td>\n",
       "      <td>-0.751146</td>\n",
       "      <td>0.751074</td>\n",
       "      <td>1.069545</td>\n",
       "      <td>-0.256900</td>\n",
       "      <td>0.746029</td>\n",
       "      <td>0.163661</td>\n",
       "      <td>1.307289</td>\n",
       "      <td>0.226137</td>\n",
       "      <td>0.248681</td>\n",
       "      <td>1.480360</td>\n",
       "      <td>-0.006661</td>\n",
       "      <td>1.302141</td>\n",
       "      <td>1.434275</td>\n",
       "      <td>0.575965</td>\n",
       "      <td>1.040829</td>\n",
       "      <td>0.818388</td>\n",
       "      <td>1.886410</td>\n",
       "      <td>1.267837</td>\n",
       "      <td>0.225505</td>\n",
       "    </tr>\n",
       "    <tr>\n",
       "      <th>3</th>\n",
       "      <td>-0.530558</td>\n",
       "      <td>-0.815966</td>\n",
       "      <td>-0.441388</td>\n",
       "      <td>-0.544453</td>\n",
       "      <td>2.233850</td>\n",
       "      <td>1.197997</td>\n",
       "      <td>0.808688</td>\n",
       "      <td>0.764469</td>\n",
       "      <td>1.030728</td>\n",
       "      <td>2.005032</td>\n",
       "      <td>-0.262165</td>\n",
       "      <td>-0.566914</td>\n",
       "      <td>-0.329336</td>\n",
       "      <td>-0.292276</td>\n",
       "      <td>0.205058</td>\n",
       "      <td>0.388917</td>\n",
       "      <td>0.114801</td>\n",
       "      <td>-0.114879</td>\n",
       "      <td>0.124810</td>\n",
       "      <td>0.426860</td>\n",
       "      <td>-0.203440</td>\n",
       "      <td>-0.296132</td>\n",
       "      <td>-0.157312</td>\n",
       "      <td>-0.272638</td>\n",
       "      <td>2.122158</td>\n",
       "      <td>1.673337</td>\n",
       "      <td>1.223245</td>\n",
       "      <td>0.852914</td>\n",
       "      <td>1.912964</td>\n",
       "      <td>2.355685</td>\n",
       "    </tr>\n",
       "    <tr>\n",
       "      <th>4</th>\n",
       "      <td>1.107587</td>\n",
       "      <td>0.169513</td>\n",
       "      <td>1.071047</td>\n",
       "      <td>1.022497</td>\n",
       "      <td>-0.114236</td>\n",
       "      <td>0.050290</td>\n",
       "      <td>0.254783</td>\n",
       "      <td>0.591041</td>\n",
       "      <td>-0.054803</td>\n",
       "      <td>-0.779339</td>\n",
       "      <td>0.117782</td>\n",
       "      <td>-0.775579</td>\n",
       "      <td>0.110037</td>\n",
       "      <td>0.252126</td>\n",
       "      <td>-0.880544</td>\n",
       "      <td>-0.671614</td>\n",
       "      <td>-0.318224</td>\n",
       "      <td>-0.266207</td>\n",
       "      <td>-0.824089</td>\n",
       "      <td>-0.585379</td>\n",
       "      <td>1.336925</td>\n",
       "      <td>0.339728</td>\n",
       "      <td>1.322948</td>\n",
       "      <td>1.252538</td>\n",
       "      <td>0.567053</td>\n",
       "      <td>-0.010622</td>\n",
       "      <td>0.475853</td>\n",
       "      <td>1.139413</td>\n",
       "      <td>0.314019</td>\n",
       "      <td>-0.000125</td>\n",
       "    </tr>\n",
       "  </tbody>\n",
       "</table>\n",
       "</div>"
      ],
      "text/plain": [
       "   mean radius  mean texture  mean perimeter  mean area  mean smoothness  mean compactness  mean concavity  mean concave points  mean symmetry  mean fractal dimension  radius error  texture error  perimeter error  area error  smoothness error  compactness error  concavity error  concave points error  symmetry error  fractal dimension error  worst radius  worst texture  worst perimeter  worst area  worst smoothness  worst compactness  worst concavity  worst concave points  worst symmetry  worst fractal dimension\n",
       "0  1.034153    -2.040907      1.201746        0.913932   1.568430         3.222477          2.556376        2.431039             2.260749       2.388981                2.313143     -0.539984       2.577914         2.279170   -0.172321          1.231183           0.634248         0.579991              1.123777        0.814252                 1.856617     -1.340180       2.256284         1.981249    1.369113          2.559731           2.062455         2.222408              2.981240        2.037489               \n",
       "1  1.762845    -0.339344      1.614265        1.818637  -0.814344        -0.520929         -0.062085        0.494636             0.011884      -0.890952                0.445579     -0.845669       0.209500         0.663077   -0.571100         -0.711593          -0.438542         0.198585             -0.800247       -0.113605                 1.775545     -0.351425       1.489403         1.870090   -0.341948         -0.457913          -0.174963         1.031413             -0.228790        0.308815               \n",
       "2  1.514299     0.461934      1.495819        1.476241   0.945482         1.007967          1.295044        1.947756             0.964040      -0.396878                1.129958     -0.751146       0.751074         1.069545   -0.256900          0.746029           0.163661         1.307289              0.226137        0.248681                 1.480360     -0.006661       1.302141         1.434275    0.575965          1.040829           0.818388         1.886410              1.267837        0.225505               \n",
       "3 -0.530558    -0.815966     -0.441388       -0.544453   2.233850         1.197997          0.808688        0.764469             1.030728       2.005032               -0.262165     -0.566914      -0.329336        -0.292276    0.205058          0.388917           0.114801        -0.114879              0.124810        0.426860                -0.203440     -0.296132      -0.157312        -0.272638    2.122158          1.673337           1.223245         0.852914              1.912964        2.355685               \n",
       "4  1.107587     0.169513      1.071047        1.022497  -0.114236         0.050290          0.254783        0.591041            -0.054803      -0.779339                0.117782     -0.775579       0.110037         0.252126   -0.880544         -0.671614          -0.318224        -0.266207             -0.824089       -0.585379                 1.336925      0.339728       1.322948         1.252538    0.567053         -0.010622           0.475853         1.139413              0.314019       -0.000125               "
      ]
     },
     "execution_count": 25,
     "metadata": {},
     "output_type": "execute_result"
    }
   ],
   "source": [
    "b_train_x_scaled = scale(b_train_x,axis=0)\n",
    "\n",
    "b_test_x_scaled = scale(b_test_x,axis=0)\n",
    "\n",
    "pd.DataFrame(b_train_x_scaled, columns =b_train_x.columns).head()"
   ]
  },
  {
   "cell_type": "code",
   "execution_count": 26,
   "metadata": {},
   "outputs": [
    {
     "name": "stdout",
     "output_type": "stream",
     "text": [
      "Accuracy on training set:0.987\n",
      "Accuracy on test set: 0.978\n"
     ]
    }
   ],
   "source": [
    "svm_un_scaled = SVC(random_state=1234)\n",
    "svm_un_scaled.fit(b_train_x_scaled,b_train_y)\n",
    "print(\"Accuracy on training set:{:.3f}\".format(svm_un_scaled.score(b_train_x_scaled,b_train_y)))\n",
    "print(\"Accuracy on test set: {:.3f}\".format(svm_un_scaled.score(b_test_x_scaled,b_test_y)))"
   ]
  },
  {
   "cell_type": "code",
   "execution_count": 28,
   "metadata": {},
   "outputs": [],
   "source": [
    "#c를 0.1부터 1까지 0.1단위 조정\n",
    "train_ac=[]\n",
    "test_ac=[]\n",
    "para_C=[]\n",
    "\n",
    "for C in range(15):\n",
    "    svm1_scaled = SVC(C=C+1,random_state=1234)\n",
    "    svm1_scaled.fit(b_train_x_scaled, b_train_y)\n",
    "    para_C.append(C+1)\n",
    "    train_ac.append(svm1_scaled.score(b_train_x_scaled,b_train_y))\n",
    "    test_ac.append(svm1_scaled.score(b_test_x_scaled,b_test_y))\n",
    "    \n",
    "ds_acc3_scaled =  pd.DataFrame()\n",
    "ds_acc3_scaled['C'] = para_C\n",
    "ds_acc3_scaled[\"TrainAccuraccy\"] =train_ac\n",
    "ds_acc3_scaled[\"TestAccuracy\"] = test_ac"
   ]
  },
  {
   "cell_type": "code",
   "execution_count": 29,
   "metadata": {},
   "outputs": [
    {
     "data": {
      "text/plain": [
       "<matplotlib.axes._subplots.AxesSubplot at 0x7f48d1065198>"
      ]
     },
     "execution_count": 29,
     "metadata": {},
     "output_type": "execute_result"
    },
    {
     "data": {
      "image/png": "[encoded data removed]",
      "text/plain": [
       "<Figure size 432x288 with 1 Axes>"
      ]
     },
     "metadata": {
      "needs_background": "light"
     },
     "output_type": "display_data"
    }
   ],
   "source": [
    "ds_acc3_scaled.round(3)\n",
    "ds_acc3_scaled.set_index(\"C\",inplace=False).plot.line()"
   ]
  },
  {
   "cell_type": "code",
   "execution_count": 34,
   "metadata": {},
   "outputs": [],
   "source": [
    "#Gamma를 0.1부터 1까지 0.1단위 조정\n",
    "train_ac=[]\n",
    "test_ac=[]\n",
    "para_g=[]\n",
    "\n",
    "for gamma in range(1,10):\n",
    "    svm2_scaled = SVC(gamma=gamma/10,random_state=1234)\n",
    "    svm2_scaled.fit(b_train_x_scaled, b_train_y)\n",
    "    para_g.append(gamma/10)\n",
    "    train_ac.append(svm2_scaled.score(b_train_x_scaled,b_train_y))\n",
    "    test_ac.append(svm2_scaled.score(b_test_x_scaled,b_test_y))\n",
    "    \n",
    "ds_acc2_scaled =  pd.DataFrame()\n",
    "ds_acc2_scaled['Gamma'] = para_g\n",
    "ds_acc2_scaled[\"TrainAccuraccy\"] =train_ac\n",
    "ds_acc2_scaled[\"TestAccuracy\"] = test_ac"
   ]
  },
  {
   "cell_type": "code",
   "execution_count": 35,
   "metadata": {},
   "outputs": [
    {
     "data": {
      "text/plain": [
       "<matplotlib.axes._subplots.AxesSubplot at 0x7f48d0e6a9b0>"
      ]
     },
     "execution_count": 35,
     "metadata": {},
     "output_type": "execute_result"
    },
    {
     "data": {
      "image/png": "[encoded data removed]",
      "text/plain": [
       "<Figure size 432x288 with 1 Axes>"
      ]
     },
     "metadata": {
      "needs_background": "light"
     },
     "output_type": "display_data"
    }
   ],
   "source": [
    "ds_acc2_scaled.round(3)\n",
    "ds_acc2_scaled.set_index(\"Gamma\",inplace=False).plot.line()"
   ]
  },
  {
   "cell_type": "code",
   "execution_count": null,
   "metadata": {},
   "outputs": [],
   "source": []
  }
 ],
 "metadata": {
  "kernelspec": {
   "display_name": "Python 3",
   "language": "python",
   "name": "python3"
  },
  "language_info": {
   "codemirror_mode": {
    "name": "ipython",
    "version": 3
   },
   "file_extension": ".py",
   "mimetype": "text/x-python",
   "name": "python",
   "nbconvert_exporter": "python",
   "pygments_lexer": "ipython3",
   "version": "3.7.1"
  }
 },
 "nbformat": 4,
 "nbformat_minor": 2
}
