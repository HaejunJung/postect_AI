{
 "cells": [
  {
   "cell_type": "markdown",
   "metadata": {},
   "source": [
    "# SVM"
   ]
  },
  {
   "cell_type": "code",
   "execution_count": 81,
   "metadata": {},
   "outputs": [],
   "source": [
    "import pandas as pd\n",
    "import numpy as np\n",
    "import statsmodels.api as sm\n",
    "import matplotlib.pyplot as plt\n",
    "import seaborn as sns\n",
    "import scipy.stats as stats\n",
    "from sklearn import metrics\n",
    "from sklearn.preprocessing import scale\n",
    "\n",
    "# 데이터 분할(train, test 데이터 7:3으로 - sklearn의 train_set_split)\n",
    "from sklearn.model_selection import train_test_split\n",
    "import os\n",
    "#sklearn.tree의 Decision Tree classifier:분류의사결정나무\n",
    "from sklearn.tree import DecisionTreeClassifier\n",
    "#sklearn.tree의 export_graphviz: graphviz패키지가 사용할수 있는.dot 확장자 파일로저장\n",
    "from sklearn.tree import export_graphviz\n",
    "#graphviz import:의사결정 나무 모델 시각화 .dot확장자 파일 불러오는 패키지\n",
    "import graphviz\n",
    "\n",
    "#pandas describe 생략되는 것 표시\n",
    "pd.set_option('display.max_columns', None)  \n",
    "pd.set_option('display.expand_frame_repr', False)\n",
    "pd.set_option('max_colwidth', -1)\n",
    "\n",
    "from sklearn.ensemble import RandomForestClassifier\n",
    "from sklearn.metrics import make_scorer, accuracy_score\n",
    "from sklearn.model_selection import GridSearchCV\n",
    "\n",
    "from sklearn.preprocessing import scale\n",
    "from sklearn.svm import SVC\n",
    "\n",
    "#회귀분석 패키지\n",
    "import statsmodels.api as sm\n",
    "from sklearn.model_selection import train_test_split\n",
    "\n",
    "import warnings\n",
    "warnings.filterwarnings('ignore')"
   ]
  },
  {
   "cell_type": "markdown",
   "metadata": {},
   "source": [
    "## Data Loading"
   ]
  },
  {
   "cell_type": "code",
   "execution_count": 25,
   "metadata": {},
   "outputs": [],
   "source": [
    "b_cancer = pd.read_csv(\"/home/pirl/Downloads/유방암.csv\",engine = 'python',\n",
    "                        encoding='CP949')\n",
    "#sns.countplot(b_cancer[\"diagnosis\"],label=\"Count\")\n",
    "#b_cancer.describe()\n",
    "# print(b_cancer.isnull().sum(axis=0))\n",
    "#b_cancer.head()"
   ]
  },
  {
   "cell_type": "markdown",
   "metadata": {},
   "source": [
    "## Data Split"
   ]
  },
  {
   "cell_type": "code",
   "execution_count": 85,
   "metadata": {},
   "outputs": [
    {
     "name": "stdout",
     "output_type": "stream",
     "text": [
      "train data X size: (398, 30)\n",
      "train data Y size: (398,)\n",
      "test data X size: (171, 30)\n",
      "test data Y size: (171,)\n"
     ]
    }
   ],
   "source": [
    "b_cancer_y = b_cancer['diagnosis']\n",
    "b_cancer_x = b_cancer.drop('diagnosis',axis=1, inplace=False)\n",
    "\n",
    "# train/test 데이터의 목표변수/설명변수 지정\n",
    "b_train_x, b_test_x, b_train_y, b_test_y = \\\n",
    "train_test_split(b_cancer_x, b_cancer_y, test_size=0.3, random_state=1234)\n",
    "\n",
    "# train데이터와 test데이터 크기\n",
    "print(\"train data X size: {}\".format(b_train_x.shape))\n",
    "print(\"train data Y size: {}\".format(b_train_y.shape))\n",
    "print(\"test data X size: {}\".format(b_test_x.shape))\n",
    "print(\"test data Y size: {}\".format(b_test_y.shape))"
   ]
  },
  {
   "cell_type": "markdown",
   "metadata": {},
   "source": [
    "## SVM Modeling"
   ]
  },
  {
   "cell_type": "code",
   "execution_count": 86,
   "metadata": {},
   "outputs": [
    {
     "name": "stdout",
     "output_type": "stream",
     "text": [
      "Accuracy on training set:1.000\n",
      "Accuracy on training set:0.614\n",
      "\n",
      "SVC(C=1.0, cache_size=200, class_weight=None, coef0=0.0,\n",
      "  decision_function_shape='ovr', degree=3, gamma='auto_deprecated',\n",
      "  kernel='rbf', max_iter=-1, probability=False, random_state=1234,\n",
      "  shrinking=True, tol=0.001, verbose=False)\n"
     ]
    }
   ],
   "source": [
    "svm_un=SVC(random_state=1234)\n",
    "svm_un.fit(b_train_x,b_train_y)\n",
    "\n",
    "print(\"Accuracy on training set:{:.3f}\".format(svm_un.score(b_train_x,b_train_y)))\n",
    "print(\"Accuracy on training set:{:.3f}\".format(svm_un.score(b_test_x,b_test_y)))\n",
    "print()\n",
    "print(svm_un)"
   ]
  },
  {
   "cell_type": "markdown",
   "metadata": {},
   "source": [
    "#### 설명변수에 스케일없이 바로 SVM모델링하였고, 정확도는 61%정도로 상당히 낮은 결과를 보여주었다. "
   ]
  },
  {
   "cell_type": "code",
   "execution_count": 87,
   "metadata": {},
   "outputs": [],
   "source": [
    "#C를 0.1부터 1까지 0.1단위 조정\n",
    "train_ac=[]\n",
    "test_ac=[]\n",
    "para_C=[]\n",
    "\n",
    "for C in range(10):\n",
    "    svm1 = SVC(C=(C+1)/10,random_state=1234)\n",
    "    svm1.fit(b_train_x, b_train_y)\n",
    "    para_C.append((C+1)/10)\n",
    "    train_ac.append(svm1.score(b_train_x,b_train_y))\n",
    "    test_ac.append(svm1.score(b_test_x,b_test_y))\n",
    "    \n",
    "ds_acc1 =  pd.DataFrame()\n",
    "ds_acc1['C'] = para_C\n",
    "ds_acc1[\"TrainAccuraccy\"] =train_ac\n",
    "ds_acc1[\"TestAccuracy\"] = test_ac"
   ]
  },
  {
   "cell_type": "code",
   "execution_count": 88,
   "metadata": {},
   "outputs": [
    {
     "data": {
      "text/plain": [
       "<matplotlib.axes._subplots.AxesSubplot at 0x7f7932394da0>"
      ]
     },
     "execution_count": 88,
     "metadata": {},
     "output_type": "execute_result"
    },
    {
     "data": {
      "image/png": "[encoded data removed]",
      "text/plain": [
       "<Figure size 432x288 with 1 Axes>"
      ]
     },
     "metadata": {
      "needs_background": "light"
     },
     "output_type": "display_data"
    }
   ],
   "source": [
    "ds_acc1.round(3)\n",
    "ds_acc1.set_index(\"C\",inplace=False).plot.line()"
   ]
  },
  {
   "cell_type": "markdown",
   "metadata": {},
   "source": [
    "#### scaling 되지 않은 데이터에서 test set은 Cost의 의해 정확도가 변화하지 않았다."
   ]
  },
  {
   "cell_type": "code",
   "execution_count": 89,
   "metadata": {},
   "outputs": [],
   "source": [
    "#Gamma를 0.1부터 1까지 0.1단위 조정\n",
    "train_ac=[]\n",
    "test_ac=[]\n",
    "para_g=[]\n",
    "\n",
    "for gamma in range(1,10):\n",
    "    svm2 = SVC(gamma=gamma/10,random_state=1234)\n",
    "    svm2.fit(b_train_x, b_train_y)\n",
    "    para_g.append(gamma/10)\n",
    "    train_ac.append(svm2.score(b_train_x,b_train_y))\n",
    "    test_ac.append(svm2.score(b_test_x,b_test_y))\n",
    "    \n",
    "ds_acc2 =  pd.DataFrame()\n",
    "ds_acc2['Gamma'] = para_g\n",
    "ds_acc2[\"TrainAccuraccy\"] =train_ac\n",
    "ds_acc2[\"TestAccuracy\"] = test_ac"
   ]
  },
  {
   "cell_type": "code",
   "execution_count": 90,
   "metadata": {},
   "outputs": [
    {
     "data": {
      "text/plain": [
       "<matplotlib.axes._subplots.AxesSubplot at 0x7f7930a4f7f0>"
      ]
     },
     "execution_count": 90,
     "metadata": {},
     "output_type": "execute_result"
    },
    {
     "data": {
      "image/png": "[encoded data removed]",
      "text/plain": [
       "<Figure size 432x288 with 1 Axes>"
      ]
     },
     "metadata": {
      "needs_background": "light"
     },
     "output_type": "display_data"
    }
   ],
   "source": [
    "ds_acc2.round(3)\n",
    "ds_acc2.set_index(\"Gamma\",inplace=False).plot.line()"
   ]
  },
  {
   "cell_type": "markdown",
   "metadata": {},
   "source": [
    "#### Gamma도 마찬가지로 변화가 없었다. SVM사용전 scaling를 진행하겠다.\n",
    "# Scaling "
   ]
  },
  {
   "cell_type": "code",
   "execution_count": 91,
   "metadata": {},
   "outputs": [
    {
     "data": {
      "text/html": [
       "<div>\n",
       "<style scoped>\n",
       "    .dataframe tbody tr th:only-of-type {\n",
       "        vertical-align: middle;\n",
       "    }\n",
       "\n",
       "    .dataframe tbody tr th {\n",
       "        vertical-align: top;\n",
       "    }\n",
       "\n",
       "    .dataframe thead th {\n",
       "        text-align: right;\n",
       "    }\n",
       "</style>\n",
       "<table border=\"1\" class=\"dataframe\">\n",
       "  <thead>\n",
       "    <tr style=\"text-align: right;\">\n",
       "      <th></th>\n",
       "      <th>mean radius</th>\n",
       "      <th>mean texture</th>\n",
       "      <th>mean perimeter</th>\n",
       "      <th>mean area</th>\n",
       "      <th>mean smoothness</th>\n",
       "      <th>mean compactness</th>\n",
       "      <th>mean concavity</th>\n",
       "      <th>mean concave points</th>\n",
       "      <th>mean symmetry</th>\n",
       "      <th>mean fractal dimension</th>\n",
       "      <th>radius error</th>\n",
       "      <th>texture error</th>\n",
       "      <th>perimeter error</th>\n",
       "      <th>area error</th>\n",
       "      <th>smoothness error</th>\n",
       "      <th>compactness error</th>\n",
       "      <th>concavity error</th>\n",
       "      <th>concave points error</th>\n",
       "      <th>symmetry error</th>\n",
       "      <th>fractal dimension error</th>\n",
       "      <th>worst radius</th>\n",
       "      <th>worst texture</th>\n",
       "      <th>worst perimeter</th>\n",
       "      <th>worst area</th>\n",
       "      <th>worst smoothness</th>\n",
       "      <th>worst compactness</th>\n",
       "      <th>worst concavity</th>\n",
       "      <th>worst concave points</th>\n",
       "      <th>worst symmetry</th>\n",
       "      <th>worst fractal dimension</th>\n",
       "    </tr>\n",
       "  </thead>\n",
       "  <tbody>\n",
       "    <tr>\n",
       "      <th>0</th>\n",
       "      <td>-1.537538</td>\n",
       "      <td>-0.555548</td>\n",
       "      <td>-1.519860</td>\n",
       "      <td>-1.202355</td>\n",
       "      <td>0.513983</td>\n",
       "      <td>-0.567464</td>\n",
       "      <td>-1.120375</td>\n",
       "      <td>-1.249209</td>\n",
       "      <td>0.620657</td>\n",
       "      <td>1.172660</td>\n",
       "      <td>0.392510</td>\n",
       "      <td>1.532466</td>\n",
       "      <td>0.129559</td>\n",
       "      <td>-0.268374</td>\n",
       "      <td>3.006528</td>\n",
       "      <td>-0.319818</td>\n",
       "      <td>-1.181086</td>\n",
       "      <td>-1.960433</td>\n",
       "      <td>-0.212723</td>\n",
       "      <td>1.374639</td>\n",
       "      <td>-1.276643</td>\n",
       "      <td>-0.472874</td>\n",
       "      <td>-1.300672</td>\n",
       "      <td>-1.011696</td>\n",
       "      <td>0.548118</td>\n",
       "      <td>-0.768557</td>\n",
       "      <td>-1.277839</td>\n",
       "      <td>-1.733444</td>\n",
       "      <td>-0.771425</td>\n",
       "      <td>0.221296</td>\n",
       "    </tr>\n",
       "    <tr>\n",
       "      <th>1</th>\n",
       "      <td>-0.796097</td>\n",
       "      <td>-0.386037</td>\n",
       "      <td>-0.813568</td>\n",
       "      <td>-0.734869</td>\n",
       "      <td>-0.560715</td>\n",
       "      <td>-0.965140</td>\n",
       "      <td>-0.771266</td>\n",
       "      <td>-0.716927</td>\n",
       "      <td>-0.810121</td>\n",
       "      <td>-0.513848</td>\n",
       "      <td>-0.772940</td>\n",
       "      <td>0.591089</td>\n",
       "      <td>-0.748212</td>\n",
       "      <td>-0.615863</td>\n",
       "      <td>-0.566229</td>\n",
       "      <td>-0.868126</td>\n",
       "      <td>-0.741549</td>\n",
       "      <td>-0.970248</td>\n",
       "      <td>-0.875810</td>\n",
       "      <td>-0.937946</td>\n",
       "      <td>-0.680246</td>\n",
       "      <td>1.698160</td>\n",
       "      <td>-0.676490</td>\n",
       "      <td>-0.648918</td>\n",
       "      <td>0.518137</td>\n",
       "      <td>-0.580688</td>\n",
       "      <td>-0.447953</td>\n",
       "      <td>-0.430111</td>\n",
       "      <td>0.089705</td>\n",
       "      <td>-0.363035</td>\n",
       "    </tr>\n",
       "    <tr>\n",
       "      <th>2</th>\n",
       "      <td>0.217527</td>\n",
       "      <td>-0.386037</td>\n",
       "      <td>0.185577</td>\n",
       "      <td>0.051241</td>\n",
       "      <td>1.411902</td>\n",
       "      <td>0.489621</td>\n",
       "      <td>0.810195</td>\n",
       "      <td>0.936694</td>\n",
       "      <td>0.516330</td>\n",
       "      <td>-0.082614</td>\n",
       "      <td>3.183785</td>\n",
       "      <td>0.406047</td>\n",
       "      <td>2.679366</td>\n",
       "      <td>1.402730</td>\n",
       "      <td>1.012718</td>\n",
       "      <td>0.534849</td>\n",
       "      <td>1.304586</td>\n",
       "      <td>2.762841</td>\n",
       "      <td>3.967008</td>\n",
       "      <td>-0.378589</td>\n",
       "      <td>0.458706</td>\n",
       "      <td>-0.692868</td>\n",
       "      <td>0.400268</td>\n",
       "      <td>0.150331</td>\n",
       "      <td>0.338256</td>\n",
       "      <td>-0.254325</td>\n",
       "      <td>0.259580</td>\n",
       "      <td>0.764436</td>\n",
       "      <td>0.808944</td>\n",
       "      <td>-0.675025</td>\n",
       "    </tr>\n",
       "    <tr>\n",
       "      <th>3</th>\n",
       "      <td>0.895158</td>\n",
       "      <td>0.888784</td>\n",
       "      <td>0.765950</td>\n",
       "      <td>0.771536</td>\n",
       "      <td>-0.698209</td>\n",
       "      <td>-0.781438</td>\n",
       "      <td>-0.757719</td>\n",
       "      <td>-0.530122</td>\n",
       "      <td>-0.947982</td>\n",
       "      <td>-1.376316</td>\n",
       "      <td>-0.023799</td>\n",
       "      <td>0.163517</td>\n",
       "      <td>-0.156882</td>\n",
       "      <td>0.087579</td>\n",
       "      <td>-0.451465</td>\n",
       "      <td>-0.805296</td>\n",
       "      <td>-0.710180</td>\n",
       "      <td>-0.666886</td>\n",
       "      <td>-0.787230</td>\n",
       "      <td>-0.974842</td>\n",
       "      <td>0.727913</td>\n",
       "      <td>0.919350</td>\n",
       "      <td>0.601808</td>\n",
       "      <td>0.588221</td>\n",
       "      <td>-0.394120</td>\n",
       "      <td>-0.662580</td>\n",
       "      <td>-0.722902</td>\n",
       "      <td>-0.499488</td>\n",
       "      <td>-0.760008</td>\n",
       "      <td>-1.004755</td>\n",
       "    </tr>\n",
       "    <tr>\n",
       "      <th>4</th>\n",
       "      <td>-0.880801</td>\n",
       "      <td>-0.490530</td>\n",
       "      <td>-0.864427</td>\n",
       "      <td>-0.828931</td>\n",
       "      <td>1.601307</td>\n",
       "      <td>0.049639</td>\n",
       "      <td>-0.610699</td>\n",
       "      <td>-0.167410</td>\n",
       "      <td>0.505152</td>\n",
       "      <td>2.422242</td>\n",
       "      <td>-0.822023</td>\n",
       "      <td>-0.352084</td>\n",
       "      <td>-0.768117</td>\n",
       "      <td>-0.646975</td>\n",
       "      <td>1.910275</td>\n",
       "      <td>-0.104175</td>\n",
       "      <td>-0.500805</td>\n",
       "      <td>0.206439</td>\n",
       "      <td>0.236507</td>\n",
       "      <td>2.092966</td>\n",
       "      <td>-0.961878</td>\n",
       "      <td>-0.803668</td>\n",
       "      <td>-0.942938</td>\n",
       "      <td>-0.844601</td>\n",
       "      <td>1.413263</td>\n",
       "      <td>-0.334411</td>\n",
       "      <td>-0.702280</td>\n",
       "      <td>-0.307839</td>\n",
       "      <td>-0.225064</td>\n",
       "      <td>1.689948</td>\n",
       "    </tr>\n",
       "  </tbody>\n",
       "</table>\n",
       "</div>"
      ],
      "text/plain": [
       "   mean radius  mean texture  mean perimeter  mean area  mean smoothness  mean compactness  mean concavity  mean concave points  mean symmetry  mean fractal dimension  radius error  texture error  perimeter error  area error  smoothness error  compactness error  concavity error  concave points error  symmetry error  fractal dimension error  worst radius  worst texture  worst perimeter  worst area  worst smoothness  worst compactness  worst concavity  worst concave points  worst symmetry  worst fractal dimension\n",
       "0 -1.537538    -0.555548     -1.519860       -1.202355   0.513983        -0.567464         -1.120375       -1.249209             0.620657       1.172660                0.392510      1.532466       0.129559        -0.268374    3.006528         -0.319818          -1.181086        -1.960433             -0.212723        1.374639                -1.276643     -0.472874      -1.300672        -1.011696    0.548118         -0.768557          -1.277839        -1.733444             -0.771425        0.221296               \n",
       "1 -0.796097    -0.386037     -0.813568       -0.734869  -0.560715        -0.965140         -0.771266       -0.716927            -0.810121      -0.513848               -0.772940      0.591089      -0.748212        -0.615863   -0.566229         -0.868126          -0.741549        -0.970248             -0.875810       -0.937946                -0.680246      1.698160      -0.676490        -0.648918    0.518137         -0.580688          -0.447953        -0.430111              0.089705       -0.363035               \n",
       "2  0.217527    -0.386037      0.185577        0.051241   1.411902         0.489621          0.810195        0.936694             0.516330      -0.082614                3.183785      0.406047       2.679366         1.402730    1.012718          0.534849           1.304586         2.762841              3.967008       -0.378589                 0.458706     -0.692868       0.400268         0.150331    0.338256         -0.254325           0.259580         0.764436              0.808944       -0.675025               \n",
       "3  0.895158     0.888784      0.765950        0.771536  -0.698209        -0.781438         -0.757719       -0.530122            -0.947982      -1.376316               -0.023799      0.163517      -0.156882         0.087579   -0.451465         -0.805296          -0.710180        -0.666886             -0.787230       -0.974842                 0.727913      0.919350       0.601808         0.588221   -0.394120         -0.662580          -0.722902        -0.499488             -0.760008       -1.004755               \n",
       "4 -0.880801    -0.490530     -0.864427       -0.828931   1.601307         0.049639         -0.610699       -0.167410             0.505152       2.422242               -0.822023     -0.352084      -0.768117        -0.646975    1.910275         -0.104175          -0.500805         0.206439              0.236507        2.092966                -0.961878     -0.803668      -0.942938        -0.844601    1.413263         -0.334411          -0.702280        -0.307839             -0.225064        1.689948               "
      ]
     },
     "execution_count": 91,
     "metadata": {},
     "output_type": "execute_result"
    }
   ],
   "source": [
    "b_train_x_scaled = scale(b_train_x,axis=0)\n",
    "\n",
    "b_test_x_scaled = scale(b_test_x,axis=0)\n",
    "\n",
    "pd.DataFrame(b_train_x_scaled, columns =b_train_x.columns).head()"
   ]
  },
  {
   "cell_type": "code",
   "execution_count": 92,
   "metadata": {},
   "outputs": [
    {
     "name": "stdout",
     "output_type": "stream",
     "text": [
      "Accuracy on training set:0.995\n",
      "Accuracy on test set: 0.953\n"
     ]
    }
   ],
   "source": [
    "svm_un_scaled = SVC(random_state=1234)\n",
    "svm_un_scaled.fit(b_train_x_scaled,b_train_y)\n",
    "print(\"Accuracy on training set:{:.3f}\".format(svm_un_scaled.score(b_train_x_scaled,b_train_y)))\n",
    "print(\"Accuracy on test set: {:.3f}\".format(svm_un_scaled.score(b_test_x_scaled,b_test_y)))"
   ]
  },
  {
   "cell_type": "markdown",
   "metadata": {},
   "source": [
    "#### scaling이후 정확도가 급격하게 좋아 졌는데, 원래 데이터의 변수들 끼리의 단위가 많이 틀렸던것을 확인할수 있다. Cost값과 Gamma값을 확인해 보겠다."
   ]
  },
  {
   "cell_type": "code",
   "execution_count": 93,
   "metadata": {},
   "outputs": [],
   "source": [
    "#c를 0.1부터 1까지 0.1단위 조정\n",
    "train_ac=[]\n",
    "test_ac=[]\n",
    "para_C=[]\n",
    "\n",
    "for C in range(50):\n",
    "    svm1_scaled = SVC(C=C+1,random_state=1234)\n",
    "    svm1_scaled.fit(b_train_x_scaled, b_train_y)\n",
    "    para_C.append(C+1)\n",
    "    train_ac.append(svm1_scaled.score(b_train_x_scaled,b_train_y))\n",
    "    test_ac.append(svm1_scaled.score(b_test_x_scaled,b_test_y))\n",
    "    \n",
    "ds_acc3_scaled =  pd.DataFrame()\n",
    "ds_acc3_scaled['C'] = para_C\n",
    "ds_acc3_scaled[\"TrainAccuraccy\"] =train_ac\n",
    "ds_acc3_scaled[\"TestAccuracy\"] = test_ac"
   ]
  },
  {
   "cell_type": "code",
   "execution_count": 94,
   "metadata": {},
   "outputs": [
    {
     "data": {
      "text/plain": [
       "<matplotlib.axes._subplots.AxesSubplot at 0x7f79309be9e8>"
      ]
     },
     "execution_count": 94,
     "metadata": {},
     "output_type": "execute_result"
    },
    {
     "data": {
      "image/png": "[encoded data removed]",
      "text/plain": [
       "<Figure size 432x288 with 1 Axes>"
      ]
     },
     "metadata": {
      "needs_background": "light"
     },
     "output_type": "display_data"
    }
   ],
   "source": [
    "ds_acc3_scaled.round(3)\n",
    "ds_acc3_scaled.set_index(\"C\",inplace=False).plot.line()"
   ]
  },
  {
   "cell_type": "markdown",
   "metadata": {},
   "source": [
    "#### Cost값이 5~9일때가 가장 높은 정확도를 보인다. cost는 모델의 flexibilty을 좀더 더하기 위해 높은 정확도중 가장낮은 cost값인 8를 사용하겠다."
   ]
  },
  {
   "cell_type": "code",
   "execution_count": 99,
   "metadata": {},
   "outputs": [],
   "source": [
    "#Gamma를 0.1부터 1까지 0.1단위 조정\n",
    "train_ac=[]\n",
    "test_ac=[]\n",
    "para_g=[]\n",
    "\n",
    "for gamma in range(1,10):\n",
    "    svm2_scaled = SVC(gamma=gamma/10,random_state=1234)\n",
    "    svm2_scaled.fit(b_train_x_scaled, b_train_y)\n",
    "    para_g.append(gamma/10)\n",
    "    train_ac.append(svm2_scaled.score(b_train_x_scaled,b_train_y))\n",
    "    test_ac.append(svm2_scaled.score(b_test_x_scaled,b_test_y))\n",
    "    \n",
    "ds_acc2_scaled =  pd.DataFrame()\n",
    "ds_acc2_scaled['Gamma'] = para_g\n",
    "ds_acc2_scaled[\"TrainAccuraccy\"] =train_ac\n",
    "ds_acc2_scaled[\"TestAccuracy\"] = test_ac"
   ]
  },
  {
   "cell_type": "code",
   "execution_count": 100,
   "metadata": {},
   "outputs": [
    {
     "data": {
      "text/plain": [
       "<matplotlib.axes._subplots.AxesSubplot at 0x7f79308f5f98>"
      ]
     },
     "execution_count": 100,
     "metadata": {},
     "output_type": "execute_result"
    },
    {
     "data": {
      "image/png": "[encoded data removed]",
      "text/plain": [
       "<Figure size 432x288 with 1 Axes>"
      ]
     },
     "metadata": {
      "needs_background": "light"
     },
     "output_type": "display_data"
    }
   ],
   "source": [
    "ds_acc2_scaled.round(3)\n",
    "ds_acc2_scaled.set_index(\"Gamma\",inplace=False).plot.line()"
   ]
  },
  {
   "cell_type": "markdown",
   "metadata": {},
   "source": [
    "#### Gamma는 정확도가 높으면서 낮은 0.1을사용하여 데이터의 영향력 거리가 커지게 만들겠다."
   ]
  },
  {
   "cell_type": "code",
   "execution_count": 103,
   "metadata": {},
   "outputs": [
    {
     "name": "stdout",
     "output_type": "stream",
     "text": [
      "Accuracy on training set:1.000\n",
      "Accuracy on test set:0.912\n",
      "\n",
      "SVC(C=10, cache_size=200, class_weight=None, coef0=0.0,\n",
      "  decision_function_shape='ovr', degree=3, gamma=0.1, kernel='rbf',\n",
      "  max_iter=-1, probability=True, random_state=1234, shrinking=True,\n",
      "  tol=0.001, verbose=False)\n"
     ]
    }
   ],
   "source": [
    "svm_un=SVC(random_state=11e-3, 1e-7, 1e-9234,C=10,gamma=0.1,probability=True)\n",
    "svm_un.fit(b_train_x_scaled,b_train_y)\n",
    "\n",
    "print(\"Accuracy on training set:{:.3f}\".format(svm_un.score(b_train_x_scaled,b_train_y)))\n",
    "print(\"Accuracy on test set:{:.3f}\".format(svm_un.score(b_test_x_scaled,b_test_y)))\n",
    "print()\n",
    "print(svm_un)"
   ]
  },
  {
   "cell_type": "markdown",
   "metadata": {},
   "source": [
    "## GridSearch"
   ]
  },
  {
   "cell_type": "code",
   "execution_count": 105,
   "metadata": {},
   "outputs": [
    {
     "name": "stdout",
     "output_type": "stream",
     "text": [
      "# Tuning hyper-parameters for accuracy\n",
      "{'C': 10, 'gamma': 0.001, 'kernel': 'linear'}\n",
      "best_score :  0.96\n",
      "# Tuning hyper-parameters for recall\n",
      "{'C': 10, 'gamma': 0.001, 'kernel': 'rbf'}\n",
      "best_score :  0.932\n"
     ]
    }
   ],
   "source": [
    "svc=SVC(random_state=1234)\n",
    "param_grid = {'kernel': ['rbf','linear'], \n",
    "              'gamma': [1e-3, 1e-7, 1e-9],\n",
    "              'C': [1,10,100,1000]}\n",
    "scores = ['accuracy', 'recall']\n",
    "for sc in scores:\n",
    "    clf=GridSearchCV(svc,param_grid,cv=10,scoring=sc,n_jobs=-1)\n",
    "    print(\"# Tuning hyper-parameters for %s\" % sc)\n",
    "    clf.fit(b_train_x,b_train_y)\n",
    "    print(clf.best_params_)\n",
    "    print(\"best_score : \", np.round(clf.best_score_,3))"
   ]
  },
  {
   "cell_type": "markdown",
   "metadata": {},
   "source": [
    "#### GridSearch결과 cost = 1000을 사용하며 gamma=0.001 또한 kernel은 linear를 사용한다. ROC커브로 두 모델을 평가해 보겠다."
   ]
  },
  {
   "cell_type": "code",
   "execution_count": 110,
   "metadata": {},
   "outputs": [
    {
     "data": {
      "text/plain": [
       "<matplotlib.legend.Legend at 0x7f7930648128>"
      ]
     },
     "execution_count": 110,
     "metadata": {},
     "output_type": "execute_result"
    },
    {
     "data": {
      "image/png": "[encoded data removed]",
      "text/plain": [
       "<Figure size 720x576 with 1 Axes>"
      ]
     },
     "metadata": {
      "needs_background": "light"
     },
     "output_type": "display_data"
    }
   ],
   "source": [
    "svc=SVC(C=6,gamma=0.01,kernel='rbf',probability=True)\n",
    "Grid_svc=SVC(C=10,gamma=0.001,kernel='linear',probability=True)\n",
    "\n",
    "Grid_svc.fit(b_test_x_scaled,b_test_y)\n",
    "# false positive rate,fpr= FP/(TN+FP) OR fpr=1-specificty, tpr=sensitivity \n",
    "y_pred_svc_p =svm_un.predict_proba(b_test_x_scaled)[:,1]\n",
    "y_pred_svc_grid =Grid_svc.predict_proba(b_test_x_scaled)[:,1]\n",
    "\n",
    "models=[y_pred_svc_p,y_pred_svc_grid]\n",
    "label=['SVC','Grid_SVC']\n",
    "\n",
    "# plotting ROC curves\n",
    "plt.figure(figsize=(10, 8))\n",
    "m=np.arange(2)\n",
    "for m in m:\n",
    "    fpr, tpr,thresholds= metrics.roc_curve(b_test_y,models[m])\n",
    "    #print('model:',label[m])\n",
    "    #print('thresholds:',np.round(thresholds,2))\n",
    "    #print('tpr:       ',np.round(tpr,2))\n",
    "    #print('fpr:       ',np.round(fpr,2))\n",
    "    plt.plot(fpr,tpr,label=label[m])\n",
    "plt.xlim([0,1.0])\n",
    "plt.ylim([0,1.0])\n",
    "plt.title('ROC curve for Cancer classifer')\n",
    "plt.xlabel('False positive rate (1-specificity)')\n",
    "plt.ylabel('True positive rate (sensitivity)')\n",
    "plt.legend(loc=4,)\n"
   ]
  },
  {
   "cell_type": "markdown",
   "metadata": {},
   "source": [
    "## 처음 SVM모델과 GridSearch 둘다 좋은 모델로 판단되지만, GridSearch모델이 조금더 정확하게 분류한다고 판단된다. 만약 불량과 양품을 찾는 모델에서 양품량의 정확도를 높힐때, 불량률도 높아지는 모델로 볼수 있다. Cost: 10, gamma: 0.001, kernel: 'linear'를 사용하는 SVM모델이 가장 적합하다고 판단된다."
   ]
  },
  {
   "cell_type": "code",
   "execution_count": null,
   "metadata": {},
   "outputs": [],
   "source": []
  }
 ],
 "metadata": {
  "kernelspec": {
   "display_name": "Python 3",
   "language": "python",
   "name": "python3"
  },
  "language_info": {
   "codemirror_mode": {
    "name": "ipython",
    "version": 3
   },
   "file_extension": ".py",
   "mimetype": "text/x-python",
   "name": "python",
   "nbconvert_exporter": "python",
   "pygments_lexer": "ipython3",
   "version": "3.7.1"
  }
 },
 "nbformat": 4,
 "nbformat_minor": 2
}
