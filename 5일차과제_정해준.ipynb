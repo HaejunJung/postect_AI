{
 "cells": [
  {
   "cell_type": "code",
   "execution_count": 14,
   "metadata": {},
   "outputs": [],
   "source": [
    "import pandas as pd\n",
    "import numpy as np\n",
    "import statsmodels.api as sm\n",
    "import matplotlib.pyplot as plt\n",
    "import seaborn as sns\n",
    "import scipy.stats as stats\n",
    "from sklearn import metrics\n",
    "from sklearn.preprocessing import scale\n",
    "\n",
    "import os\n",
    "#sklearn.tree의 Decision Tree classifier:분류의사결정나무\n",
    "from sklearn.tree import DecisionTreeClassifier\n",
    "#sklearn.tree의 export_graphviz: graphviz패키지가 사용할수 있는.dot 확장자 파일로저장\n",
    "from sklearn.tree import export_graphviz\n",
    "#graphviz import:의사결정 나무 모델 시각화 .dot확장자 파일 불러오는 패키지\n",
    "import graphviz\n",
    "\n",
    "#pandas describe 생략되는 것 표시\n",
    "pd.set_option('display.max_columns', None)  \n",
    "pd.set_option('display.expand_frame_repr', False)\n",
    "pd.set_option('max_colwidth', -1)\n",
    "\n",
    "from sklearn.ensemble import RandomForestClassifier\n",
    "from sklearn.metrics import make_scorer, accuracy_score\n",
    "from sklearn.model_selection import GridSearchCV\n",
    "\n",
    "import warnings\n",
    "warnings.filterwarnings('ignore')"
   ]
  },
  {
   "cell_type": "code",
   "execution_count": 41,
   "metadata": {},
   "outputs": [
    {
     "data": {
      "text/html": [
       "<div>\n",
       "<style scoped>\n",
       "    .dataframe tbody tr th:only-of-type {\n",
       "        vertical-align: middle;\n",
       "    }\n",
       "\n",
       "    .dataframe tbody tr th {\n",
       "        vertical-align: top;\n",
       "    }\n",
       "\n",
       "    .dataframe thead th {\n",
       "        text-align: right;\n",
       "    }\n",
       "</style>\n",
       "<table border=\"1\" class=\"dataframe\">\n",
       "  <thead>\n",
       "    <tr style=\"text-align: right;\">\n",
       "      <th></th>\n",
       "      <th>diagnosis</th>\n",
       "      <th>mean radius</th>\n",
       "      <th>mean texture</th>\n",
       "      <th>mean perimeter</th>\n",
       "      <th>mean area</th>\n",
       "      <th>mean smoothness</th>\n",
       "      <th>mean compactness</th>\n",
       "      <th>mean concavity</th>\n",
       "      <th>mean concave points</th>\n",
       "      <th>mean symmetry</th>\n",
       "      <th>mean fractal dimension</th>\n",
       "      <th>radius error</th>\n",
       "      <th>texture error</th>\n",
       "      <th>perimeter error</th>\n",
       "      <th>area error</th>\n",
       "      <th>smoothness error</th>\n",
       "      <th>compactness error</th>\n",
       "      <th>concavity error</th>\n",
       "      <th>concave points error</th>\n",
       "      <th>symmetry error</th>\n",
       "      <th>fractal dimension error</th>\n",
       "      <th>worst radius</th>\n",
       "      <th>worst texture</th>\n",
       "      <th>worst perimeter</th>\n",
       "      <th>worst area</th>\n",
       "      <th>worst smoothness</th>\n",
       "      <th>worst compactness</th>\n",
       "      <th>worst concavity</th>\n",
       "      <th>worst concave points</th>\n",
       "      <th>worst symmetry</th>\n",
       "      <th>worst fractal dimension</th>\n",
       "    </tr>\n",
       "  </thead>\n",
       "  <tbody>\n",
       "    <tr>\n",
       "      <th>0</th>\n",
       "      <td>1</td>\n",
       "      <td>17.99</td>\n",
       "      <td>10.38</td>\n",
       "      <td>122.80</td>\n",
       "      <td>1001.0</td>\n",
       "      <td>0.11840</td>\n",
       "      <td>0.27760</td>\n",
       "      <td>0.3001</td>\n",
       "      <td>0.14710</td>\n",
       "      <td>0.2419</td>\n",
       "      <td>0.07871</td>\n",
       "      <td>1.0950</td>\n",
       "      <td>0.9053</td>\n",
       "      <td>8.589</td>\n",
       "      <td>153.40</td>\n",
       "      <td>0.006399</td>\n",
       "      <td>0.04904</td>\n",
       "      <td>0.05373</td>\n",
       "      <td>0.01587</td>\n",
       "      <td>0.03003</td>\n",
       "      <td>0.006193</td>\n",
       "      <td>25.38</td>\n",
       "      <td>17.33</td>\n",
       "      <td>184.60</td>\n",
       "      <td>2019.0</td>\n",
       "      <td>0.1622</td>\n",
       "      <td>0.6656</td>\n",
       "      <td>0.7119</td>\n",
       "      <td>0.2654</td>\n",
       "      <td>0.4601</td>\n",
       "      <td>0.11890</td>\n",
       "    </tr>\n",
       "    <tr>\n",
       "      <th>1</th>\n",
       "      <td>1</td>\n",
       "      <td>20.57</td>\n",
       "      <td>17.77</td>\n",
       "      <td>132.90</td>\n",
       "      <td>1326.0</td>\n",
       "      <td>0.08474</td>\n",
       "      <td>0.07864</td>\n",
       "      <td>0.0869</td>\n",
       "      <td>0.07017</td>\n",
       "      <td>0.1812</td>\n",
       "      <td>0.05667</td>\n",
       "      <td>0.5435</td>\n",
       "      <td>0.7339</td>\n",
       "      <td>3.398</td>\n",
       "      <td>74.08</td>\n",
       "      <td>0.005225</td>\n",
       "      <td>0.01308</td>\n",
       "      <td>0.01860</td>\n",
       "      <td>0.01340</td>\n",
       "      <td>0.01389</td>\n",
       "      <td>0.003532</td>\n",
       "      <td>24.99</td>\n",
       "      <td>23.41</td>\n",
       "      <td>158.80</td>\n",
       "      <td>1956.0</td>\n",
       "      <td>0.1238</td>\n",
       "      <td>0.1866</td>\n",
       "      <td>0.2416</td>\n",
       "      <td>0.1860</td>\n",
       "      <td>0.2750</td>\n",
       "      <td>0.08902</td>\n",
       "    </tr>\n",
       "    <tr>\n",
       "      <th>2</th>\n",
       "      <td>1</td>\n",
       "      <td>19.69</td>\n",
       "      <td>21.25</td>\n",
       "      <td>130.00</td>\n",
       "      <td>1203.0</td>\n",
       "      <td>0.10960</td>\n",
       "      <td>0.15990</td>\n",
       "      <td>0.1974</td>\n",
       "      <td>0.12790</td>\n",
       "      <td>0.2069</td>\n",
       "      <td>0.05999</td>\n",
       "      <td>0.7456</td>\n",
       "      <td>0.7869</td>\n",
       "      <td>4.585</td>\n",
       "      <td>94.03</td>\n",
       "      <td>0.006150</td>\n",
       "      <td>0.04006</td>\n",
       "      <td>0.03832</td>\n",
       "      <td>0.02058</td>\n",
       "      <td>0.02250</td>\n",
       "      <td>0.004571</td>\n",
       "      <td>23.57</td>\n",
       "      <td>25.53</td>\n",
       "      <td>152.50</td>\n",
       "      <td>1709.0</td>\n",
       "      <td>0.1444</td>\n",
       "      <td>0.4245</td>\n",
       "      <td>0.4504</td>\n",
       "      <td>0.2430</td>\n",
       "      <td>0.3613</td>\n",
       "      <td>0.08758</td>\n",
       "    </tr>\n",
       "    <tr>\n",
       "      <th>3</th>\n",
       "      <td>1</td>\n",
       "      <td>11.42</td>\n",
       "      <td>20.38</td>\n",
       "      <td>77.58</td>\n",
       "      <td>386.1</td>\n",
       "      <td>0.14250</td>\n",
       "      <td>0.28390</td>\n",
       "      <td>0.2414</td>\n",
       "      <td>0.10520</td>\n",
       "      <td>0.2597</td>\n",
       "      <td>0.09744</td>\n",
       "      <td>0.4956</td>\n",
       "      <td>1.1560</td>\n",
       "      <td>3.445</td>\n",
       "      <td>27.23</td>\n",
       "      <td>0.009110</td>\n",
       "      <td>0.07458</td>\n",
       "      <td>0.05661</td>\n",
       "      <td>0.01867</td>\n",
       "      <td>0.05963</td>\n",
       "      <td>0.009208</td>\n",
       "      <td>14.91</td>\n",
       "      <td>26.50</td>\n",
       "      <td>98.87</td>\n",
       "      <td>567.7</td>\n",
       "      <td>0.2098</td>\n",
       "      <td>0.8663</td>\n",
       "      <td>0.6869</td>\n",
       "      <td>0.2575</td>\n",
       "      <td>0.6638</td>\n",
       "      <td>0.17300</td>\n",
       "    </tr>\n",
       "    <tr>\n",
       "      <th>4</th>\n",
       "      <td>1</td>\n",
       "      <td>20.29</td>\n",
       "      <td>14.34</td>\n",
       "      <td>135.10</td>\n",
       "      <td>1297.0</td>\n",
       "      <td>0.10030</td>\n",
       "      <td>0.13280</td>\n",
       "      <td>0.1980</td>\n",
       "      <td>0.10430</td>\n",
       "      <td>0.1809</td>\n",
       "      <td>0.05883</td>\n",
       "      <td>0.7572</td>\n",
       "      <td>0.7813</td>\n",
       "      <td>5.438</td>\n",
       "      <td>94.44</td>\n",
       "      <td>0.011490</td>\n",
       "      <td>0.02461</td>\n",
       "      <td>0.05688</td>\n",
       "      <td>0.01885</td>\n",
       "      <td>0.01756</td>\n",
       "      <td>0.005115</td>\n",
       "      <td>22.54</td>\n",
       "      <td>16.67</td>\n",
       "      <td>152.20</td>\n",
       "      <td>1575.0</td>\n",
       "      <td>0.1374</td>\n",
       "      <td>0.2050</td>\n",
       "      <td>0.4000</td>\n",
       "      <td>0.1625</td>\n",
       "      <td>0.2364</td>\n",
       "      <td>0.07678</td>\n",
       "    </tr>\n",
       "  </tbody>\n",
       "</table>\n",
       "</div>"
      ],
      "text/plain": [
       "   diagnosis  mean radius  mean texture  mean perimeter  mean area  mean smoothness  mean compactness  mean concavity  mean concave points  mean symmetry  mean fractal dimension  radius error  texture error  perimeter error  area error  smoothness error  compactness error  concavity error  concave points error  symmetry error  fractal dimension error  worst radius  worst texture  worst perimeter  worst area  worst smoothness  worst compactness  worst concavity  worst concave points  worst symmetry  worst fractal dimension\n",
       "0  1          17.99        10.38         122.80          1001.0     0.11840          0.27760           0.3001          0.14710              0.2419         0.07871                 1.0950        0.9053         8.589            153.40      0.006399          0.04904            0.05373          0.01587               0.03003         0.006193                 25.38         17.33          184.60           2019.0      0.1622            0.6656             0.7119           0.2654                0.4601          0.11890                \n",
       "1  1          20.57        17.77         132.90          1326.0     0.08474          0.07864           0.0869          0.07017              0.1812         0.05667                 0.5435        0.7339         3.398            74.08       0.005225          0.01308            0.01860          0.01340               0.01389         0.003532                 24.99         23.41          158.80           1956.0      0.1238            0.1866             0.2416           0.1860                0.2750          0.08902                \n",
       "2  1          19.69        21.25         130.00          1203.0     0.10960          0.15990           0.1974          0.12790              0.2069         0.05999                 0.7456        0.7869         4.585            94.03       0.006150          0.04006            0.03832          0.02058               0.02250         0.004571                 23.57         25.53          152.50           1709.0      0.1444            0.4245             0.4504           0.2430                0.3613          0.08758                \n",
       "3  1          11.42        20.38         77.58           386.1      0.14250          0.28390           0.2414          0.10520              0.2597         0.09744                 0.4956        1.1560         3.445            27.23       0.009110          0.07458            0.05661          0.01867               0.05963         0.009208                 14.91         26.50          98.87            567.7       0.2098            0.8663             0.6869           0.2575                0.6638          0.17300                \n",
       "4  1          20.29        14.34         135.10          1297.0     0.10030          0.13280           0.1980          0.10430              0.1809         0.05883                 0.7572        0.7813         5.438            94.44       0.011490          0.02461            0.05688          0.01885               0.01756         0.005115                 22.54         16.67          152.20           1575.0      0.1374            0.2050             0.4000           0.1625                0.2364          0.07678                "
      ]
     },
     "execution_count": 41,
     "metadata": {},
     "output_type": "execute_result"
    }
   ],
   "source": [
    "b_cancer = pd.read_csv(\"/home/pirl/Downloads/유방암.csv\",engine = 'python',\n",
    "                        encoding='CP949')\n",
    "b_cancer.head()"
   ]
  },
  {
   "cell_type": "code",
   "execution_count": 42,
   "metadata": {},
   "outputs": [
    {
     "name": "stdout",
     "output_type": "stream",
     "text": [
      "diagnosis                  0\n",
      "mean radius                0\n",
      "mean texture               0\n",
      "mean perimeter             0\n",
      "mean area                  0\n",
      "mean smoothness            0\n",
      "mean compactness           0\n",
      "mean concavity             0\n",
      "mean concave points        0\n",
      "mean symmetry              0\n",
      "mean fractal dimension     0\n",
      "radius error               0\n",
      "texture error              0\n",
      "perimeter error            0\n",
      "area error                 0\n",
      "smoothness error           0\n",
      "compactness error          0\n",
      "concavity error            0\n",
      "concave points error       0\n",
      "symmetry error             0\n",
      "fractal dimension error    0\n",
      "worst radius               0\n",
      "worst texture              0\n",
      "worst perimeter            0\n",
      "worst area                 0\n",
      "worst smoothness           0\n",
      "worst compactness          0\n",
      "worst concavity            0\n",
      "worst concave points       0\n",
      "worst symmetry             0\n",
      "worst fractal dimension    0\n",
      "dtype: int64\n",
      "<class 'pandas.core.frame.DataFrame'>\n",
      "RangeIndex: 569 entries, 0 to 568\n",
      "Data columns (total 31 columns):\n",
      "diagnosis                  569 non-null int64\n",
      "mean radius                569 non-null float64\n",
      "mean texture               569 non-null float64\n",
      "mean perimeter             569 non-null float64\n",
      "mean area                  569 non-null float64\n",
      "mean smoothness            569 non-null float64\n",
      "mean compactness           569 non-null float64\n",
      "mean concavity             569 non-null float64\n",
      "mean concave points        569 non-null float64\n",
      "mean symmetry              569 non-null float64\n",
      "mean fractal dimension     569 non-null float64\n",
      "radius error               569 non-null float64\n",
      "texture error              569 non-null float64\n",
      "perimeter error            569 non-null float64\n",
      "area error                 569 non-null float64\n",
      "smoothness error           569 non-null float64\n",
      "compactness error          569 non-null float64\n",
      "concavity error            569 non-null float64\n",
      "concave points error       569 non-null float64\n",
      "symmetry error             569 non-null float64\n",
      "fractal dimension error    569 non-null float64\n",
      "worst radius               569 non-null float64\n",
      "worst texture              569 non-null float64\n",
      "worst perimeter            569 non-null float64\n",
      "worst area                 569 non-null float64\n",
      "worst smoothness           569 non-null float64\n",
      "worst compactness          569 non-null float64\n",
      "worst concavity            569 non-null float64\n",
      "worst concave points       569 non-null float64\n",
      "worst symmetry             569 non-null float64\n",
      "worst fractal dimension    569 non-null float64\n",
      "dtypes: float64(30), int64(1)\n",
      "memory usage: 137.9 KB\n"
     ]
    }
   ],
   "source": [
    "print(b_cancer.isnull().sum(axis=0))\n",
    "b_cancer.info()"
   ]
  },
  {
   "cell_type": "code",
   "execution_count": 43,
   "metadata": {},
   "outputs": [
    {
     "name": "stdout",
     "output_type": "stream",
     "text": [
      "train data size: (385, 31)\n",
      "test data size: (184, 31)\n"
     ]
    }
   ],
   "source": [
    "np.random.seed(seed=1234)\n",
    "msk = np.random.rand(b_cancer.shape[0],)<0.7\n",
    "c_train=b_cancer[msk]\n",
    "c_test = b_cancer[~msk]\n",
    "print(\"train data size: {}\".format(c_train.shape))\n",
    "print(\"test data size: {}\".format(c_test.shape))"
   ]
  },
  {
   "cell_type": "code",
   "execution_count": 44,
   "metadata": {},
   "outputs": [
    {
     "name": "stdout",
     "output_type": "stream",
     "text": [
      "train data X size: (385, 30)\n",
      "train data Y size: (385,)\n",
      "test data X size: (184, 30)\n",
      "test data X size: (184,)\n"
     ]
    }
   ],
   "source": [
    "#데이터 구성하기\n",
    "#데이터분할(train,test 7:3비율로 분할,numpy의 random 함수 이용 방법)\n",
    "np.random.seed(1234)\n",
    "#0.7보다 작으면 true, -> train, 아니면 false -> test\n",
    "msk = np.random.rand(b_cancer.shape[0]) < 0.7\n",
    "b_train = b_cancer[msk]\n",
    "b_test = b_cancer[~msk]\n",
    "#train/test 데이터의 목표변수 설명변수 지정\n",
    "b_train_y = b_train[\"diagnosis\"]\n",
    "b_train_x = b_train.drop(\"diagnosis\",axis=1,inplace=False)\n",
    "b_test_y = b_test[\"diagnosis\"]\n",
    "b_test_x = b_test.drop(\"diagnosis\",axis=1,inplace=False)\n",
    "#데이터 크기\n",
    "print(\"train data X size: {}\".format(b_train_x.shape))\n",
    "print(\"train data Y size: {}\".format(b_train_y.shape))\n",
    "print(\"test data X size: {}\".format(b_test_x.shape))\n",
    "print(\"test data X size: {}\".format(b_test_y.shape))"
   ]
  },
  {
   "cell_type": "code",
   "execution_count": 45,
   "metadata": {},
   "outputs": [
    {
     "name": "stdout",
     "output_type": "stream",
     "text": [
      "Accucary on training set: 1.000\n",
      "Accucary on test set: 0.978\n"
     ]
    }
   ],
   "source": [
    "rf_uncustomized = RandomForestClassifier(random_state=1234)\n",
    "rf_uncustomized.fit(b_train_x, b_train_y)\n",
    "# 훈련 데이터 정확도\n",
    "print(\"Accucary on training set: {:.3f}\".format(rf_uncustomized.score(b_train_x, b_train_y)))\n",
    "# test 데이터 정확도\n",
    "print(\"Accucary on test set: {:.3f}\".format(rf_uncustomized.score(b_test_x, b_test_y)))"
   ]
  },
  {
   "cell_type": "code",
   "execution_count": 46,
   "metadata": {},
   "outputs": [
    {
     "data": {
      "text/plain": [
       "RandomForestClassifier(bootstrap=True, class_weight=None, criterion='gini',\n",
       "            max_depth=None, max_features='auto', max_leaf_nodes=None,\n",
       "            min_impurity_decrease=0.0, min_impurity_split=None,\n",
       "            min_samples_leaf=1, min_samples_split=2,\n",
       "            min_weight_fraction_leaf=0.0, n_estimators=10, n_jobs=None,\n",
       "            oob_score=False, random_state=1234, verbose=0,\n",
       "            warm_start=False)"
      ]
     },
     "execution_count": 46,
     "metadata": {},
     "output_type": "execute_result"
    }
   ],
   "source": [
    "rf_uncustomized"
   ]
  },
  {
   "cell_type": "code",
   "execution_count": 47,
   "metadata": {},
   "outputs": [
    {
     "data": {
      "text/html": [
       "<div>\n",
       "<style scoped>\n",
       "    .dataframe tbody tr th:only-of-type {\n",
       "        vertical-align: middle;\n",
       "    }\n",
       "\n",
       "    .dataframe tbody tr th {\n",
       "        vertical-align: top;\n",
       "    }\n",
       "\n",
       "    .dataframe thead th {\n",
       "        text-align: right;\n",
       "    }\n",
       "</style>\n",
       "<table border=\"1\" class=\"dataframe\">\n",
       "  <thead>\n",
       "    <tr style=\"text-align: right;\">\n",
       "      <th></th>\n",
       "      <th>mean radius</th>\n",
       "      <th>mean texture</th>\n",
       "      <th>mean perimeter</th>\n",
       "      <th>mean area</th>\n",
       "      <th>mean smoothness</th>\n",
       "      <th>mean compactness</th>\n",
       "      <th>mean concavity</th>\n",
       "      <th>mean concave points</th>\n",
       "      <th>mean symmetry</th>\n",
       "      <th>mean fractal dimension</th>\n",
       "      <th>radius error</th>\n",
       "      <th>texture error</th>\n",
       "      <th>perimeter error</th>\n",
       "      <th>area error</th>\n",
       "      <th>smoothness error</th>\n",
       "      <th>compactness error</th>\n",
       "      <th>concavity error</th>\n",
       "      <th>concave points error</th>\n",
       "      <th>symmetry error</th>\n",
       "      <th>fractal dimension error</th>\n",
       "      <th>worst radius</th>\n",
       "      <th>worst texture</th>\n",
       "      <th>worst perimeter</th>\n",
       "      <th>worst area</th>\n",
       "      <th>worst smoothness</th>\n",
       "      <th>worst compactness</th>\n",
       "      <th>worst concavity</th>\n",
       "      <th>worst concave points</th>\n",
       "      <th>worst symmetry</th>\n",
       "      <th>worst fractal dimension</th>\n",
       "    </tr>\n",
       "  </thead>\n",
       "  <tbody>\n",
       "    <tr>\n",
       "      <th>0</th>\n",
       "      <td>1.034153</td>\n",
       "      <td>-2.040907</td>\n",
       "      <td>1.201746</td>\n",
       "      <td>0.913932</td>\n",
       "      <td>1.568430</td>\n",
       "      <td>3.222477</td>\n",
       "      <td>2.556376</td>\n",
       "      <td>2.431039</td>\n",
       "      <td>2.260749</td>\n",
       "      <td>2.388981</td>\n",
       "      <td>2.313143</td>\n",
       "      <td>-0.539984</td>\n",
       "      <td>2.577914</td>\n",
       "      <td>2.279170</td>\n",
       "      <td>-0.172321</td>\n",
       "      <td>1.231183</td>\n",
       "      <td>0.634248</td>\n",
       "      <td>0.579991</td>\n",
       "      <td>1.123777</td>\n",
       "      <td>0.814252</td>\n",
       "      <td>1.856617</td>\n",
       "      <td>-1.340180</td>\n",
       "      <td>2.256284</td>\n",
       "      <td>1.981249</td>\n",
       "      <td>1.369113</td>\n",
       "      <td>2.559731</td>\n",
       "      <td>2.062455</td>\n",
       "      <td>2.222408</td>\n",
       "      <td>2.981240</td>\n",
       "      <td>2.037489</td>\n",
       "    </tr>\n",
       "    <tr>\n",
       "      <th>1</th>\n",
       "      <td>1.762845</td>\n",
       "      <td>-0.339344</td>\n",
       "      <td>1.614265</td>\n",
       "      <td>1.818637</td>\n",
       "      <td>-0.814344</td>\n",
       "      <td>-0.520929</td>\n",
       "      <td>-0.062085</td>\n",
       "      <td>0.494636</td>\n",
       "      <td>0.011884</td>\n",
       "      <td>-0.890952</td>\n",
       "      <td>0.445579</td>\n",
       "      <td>-0.845669</td>\n",
       "      <td>0.209500</td>\n",
       "      <td>0.663077</td>\n",
       "      <td>-0.571100</td>\n",
       "      <td>-0.711593</td>\n",
       "      <td>-0.438542</td>\n",
       "      <td>0.198585</td>\n",
       "      <td>-0.800247</td>\n",
       "      <td>-0.113605</td>\n",
       "      <td>1.775545</td>\n",
       "      <td>-0.351425</td>\n",
       "      <td>1.489403</td>\n",
       "      <td>1.870090</td>\n",
       "      <td>-0.341948</td>\n",
       "      <td>-0.457913</td>\n",
       "      <td>-0.174963</td>\n",
       "      <td>1.031413</td>\n",
       "      <td>-0.228790</td>\n",
       "      <td>0.308815</td>\n",
       "    </tr>\n",
       "    <tr>\n",
       "      <th>2</th>\n",
       "      <td>1.514299</td>\n",
       "      <td>0.461934</td>\n",
       "      <td>1.495819</td>\n",
       "      <td>1.476241</td>\n",
       "      <td>0.945482</td>\n",
       "      <td>1.007967</td>\n",
       "      <td>1.295044</td>\n",
       "      <td>1.947756</td>\n",
       "      <td>0.964040</td>\n",
       "      <td>-0.396878</td>\n",
       "      <td>1.129958</td>\n",
       "      <td>-0.751146</td>\n",
       "      <td>0.751074</td>\n",
       "      <td>1.069545</td>\n",
       "      <td>-0.256900</td>\n",
       "      <td>0.746029</td>\n",
       "      <td>0.163661</td>\n",
       "      <td>1.307289</td>\n",
       "      <td>0.226137</td>\n",
       "      <td>0.248681</td>\n",
       "      <td>1.480360</td>\n",
       "      <td>-0.006661</td>\n",
       "      <td>1.302141</td>\n",
       "      <td>1.434275</td>\n",
       "      <td>0.575965</td>\n",
       "      <td>1.040829</td>\n",
       "      <td>0.818388</td>\n",
       "      <td>1.886410</td>\n",
       "      <td>1.267837</td>\n",
       "      <td>0.225505</td>\n",
       "    </tr>\n",
       "    <tr>\n",
       "      <th>3</th>\n",
       "      <td>-0.530558</td>\n",
       "      <td>-0.815966</td>\n",
       "      <td>-0.441388</td>\n",
       "      <td>-0.544453</td>\n",
       "      <td>2.233850</td>\n",
       "      <td>1.197997</td>\n",
       "      <td>0.808688</td>\n",
       "      <td>0.764469</td>\n",
       "      <td>1.030728</td>\n",
       "      <td>2.005032</td>\n",
       "      <td>-0.262165</td>\n",
       "      <td>-0.566914</td>\n",
       "      <td>-0.329336</td>\n",
       "      <td>-0.292276</td>\n",
       "      <td>0.205058</td>\n",
       "      <td>0.388917</td>\n",
       "      <td>0.114801</td>\n",
       "      <td>-0.114879</td>\n",
       "      <td>0.124810</td>\n",
       "      <td>0.426860</td>\n",
       "      <td>-0.203440</td>\n",
       "      <td>-0.296132</td>\n",
       "      <td>-0.157312</td>\n",
       "      <td>-0.272638</td>\n",
       "      <td>2.122158</td>\n",
       "      <td>1.673337</td>\n",
       "      <td>1.223245</td>\n",
       "      <td>0.852914</td>\n",
       "      <td>1.912964</td>\n",
       "      <td>2.355685</td>\n",
       "    </tr>\n",
       "    <tr>\n",
       "      <th>4</th>\n",
       "      <td>1.107587</td>\n",
       "      <td>0.169513</td>\n",
       "      <td>1.071047</td>\n",
       "      <td>1.022497</td>\n",
       "      <td>-0.114236</td>\n",
       "      <td>0.050290</td>\n",
       "      <td>0.254783</td>\n",
       "      <td>0.591041</td>\n",
       "      <td>-0.054803</td>\n",
       "      <td>-0.779339</td>\n",
       "      <td>0.117782</td>\n",
       "      <td>-0.775579</td>\n",
       "      <td>0.110037</td>\n",
       "      <td>0.252126</td>\n",
       "      <td>-0.880544</td>\n",
       "      <td>-0.671614</td>\n",
       "      <td>-0.318224</td>\n",
       "      <td>-0.266207</td>\n",
       "      <td>-0.824089</td>\n",
       "      <td>-0.585379</td>\n",
       "      <td>1.336925</td>\n",
       "      <td>0.339728</td>\n",
       "      <td>1.322948</td>\n",
       "      <td>1.252538</td>\n",
       "      <td>0.567053</td>\n",
       "      <td>-0.010622</td>\n",
       "      <td>0.475853</td>\n",
       "      <td>1.139413</td>\n",
       "      <td>0.314019</td>\n",
       "      <td>-0.000125</td>\n",
       "    </tr>\n",
       "  </tbody>\n",
       "</table>\n",
       "</div>"
      ],
      "text/plain": [
       "   mean radius  mean texture  mean perimeter  mean area  mean smoothness  mean compactness  mean concavity  mean concave points  mean symmetry  mean fractal dimension  radius error  texture error  perimeter error  area error  smoothness error  compactness error  concavity error  concave points error  symmetry error  fractal dimension error  worst radius  worst texture  worst perimeter  worst area  worst smoothness  worst compactness  worst concavity  worst concave points  worst symmetry  worst fractal dimension\n",
       "0  1.034153    -2.040907      1.201746        0.913932   1.568430         3.222477          2.556376        2.431039             2.260749       2.388981                2.313143     -0.539984       2.577914         2.279170   -0.172321          1.231183           0.634248         0.579991              1.123777        0.814252                 1.856617     -1.340180       2.256284         1.981249    1.369113          2.559731           2.062455         2.222408              2.981240        2.037489               \n",
       "1  1.762845    -0.339344      1.614265        1.818637  -0.814344        -0.520929         -0.062085        0.494636             0.011884      -0.890952                0.445579     -0.845669       0.209500         0.663077   -0.571100         -0.711593          -0.438542         0.198585             -0.800247       -0.113605                 1.775545     -0.351425       1.489403         1.870090   -0.341948         -0.457913          -0.174963         1.031413             -0.228790        0.308815               \n",
       "2  1.514299     0.461934      1.495819        1.476241   0.945482         1.007967          1.295044        1.947756             0.964040      -0.396878                1.129958     -0.751146       0.751074         1.069545   -0.256900          0.746029           0.163661         1.307289              0.226137        0.248681                 1.480360     -0.006661       1.302141         1.434275    0.575965          1.040829           0.818388         1.886410              1.267837        0.225505               \n",
       "3 -0.530558    -0.815966     -0.441388       -0.544453   2.233850         1.197997          0.808688        0.764469             1.030728       2.005032               -0.262165     -0.566914      -0.329336        -0.292276    0.205058          0.388917           0.114801        -0.114879              0.124810        0.426860                -0.203440     -0.296132      -0.157312        -0.272638    2.122158          1.673337           1.223245         0.852914              1.912964        2.355685               \n",
       "4  1.107587     0.169513      1.071047        1.022497  -0.114236         0.050290          0.254783        0.591041            -0.054803      -0.779339                0.117782     -0.775579       0.110037         0.252126   -0.880544         -0.671614          -0.318224        -0.266207             -0.824089       -0.585379                 1.336925      0.339728       1.322948         1.252538    0.567053         -0.010622           0.475853         1.139413              0.314019       -0.000125               "
      ]
     },
     "execution_count": 47,
     "metadata": {},
     "output_type": "execute_result"
    }
   ],
   "source": [
    "#train 데이터셋 스케일 조정\n",
    "b_train_x_scaled = scale(b_train_x,axis=0)\n",
    "#test 데이터셋 스테일 조정\n",
    "b_test_x_scaled = scale(b_test_x,axis=0)\n",
    "#스케일이 변경된 x변수 확인\n",
    "pd.DataFrame(b_train_x_scaled,columns=b_train_x.columns).head()"
   ]
  },
  {
   "cell_type": "code",
   "execution_count": 48,
   "metadata": {},
   "outputs": [
    {
     "name": "stdout",
     "output_type": "stream",
     "text": [
      "Accucary on training set: 1.000\n",
      "Accucary on test set: 0.962\n"
     ]
    }
   ],
   "source": [
    "rf_scaled = RandomForestClassifier(random_state=1234)\n",
    "rf_scaled.fit(b_train_x_scaled, b_train_y)\n",
    "# 훈련 데이터 정확도\n",
    "print(\"Accucary on training set: {:.3f}\".format(rf_scaled.score(b_train_x_scaled, b_train_y)))\n",
    "# test 데이터 정확도\n",
    "print(\"Accucary on test set: {:.3f}\".format(rf_scaled.score(b_test_x_scaled, b_test_y)))"
   ]
  },
  {
   "cell_type": "markdown",
   "metadata": {},
   "source": [
    "#### 스케일을 했을경우 test셋에서의 정확도가 낫아 졌다. 스케일은 사용하지 않는게 좋을것으로 판단된다."
   ]
  },
  {
   "cell_type": "code",
   "execution_count": 49,
   "metadata": {},
   "outputs": [],
   "source": [
    "\n",
    "##############################################\n",
    "#트리수 최대값:100;1~ 100까지 실행\n",
    "n_iter_tree=100\n",
    "#트레인 및 테스트 정확도 결과 저장용\n",
    "train_accuracy = []\n",
    "test_accuracy = []\n",
    "#트리 최대수(1~30)별로 랜덤 포레스트 모델 생성 및 정확도값 저장\n",
    "\n",
    "# 트리 최대수(1~30)별로 랜덤 포레스트 모델 생성 및 정확도값 저장\n",
    "for n_tree in range(n_iter_tree):\n",
    "    rf1 = RandomForestClassifier(n_estimators=n_tree+1,random_state=1234)\n",
    "    rf1.fit(b_train_x,b_train_y)\n",
    "    train_accuracy.append(rf1.score(b_train_x_scaled,b_train_y))\n",
    "    test_accuracy.append(rf1.score(b_test_x_scaled,b_test_y))\n",
    "    \n",
    "#저장된 모델의 트레인/테스트 데이터 분류 정확도 테이블 생성\n",
    "ds_accuracy1 = pd.DataFrame()\n",
    "ds_accuracy1[\"NumberofTree\"]=[n_tree + 1for n_tree in range(n_iter_tree)]\n",
    "ds_accuracy1[\"TrainAccuracy\"] =train_accuracy\n",
    "ds_accuracy1[\"TestAccuracy\"] =test_accuracy\n",
    "        "
   ]
  },
  {
   "cell_type": "code",
   "execution_count": 50,
   "metadata": {},
   "outputs": [
    {
     "data": {
      "text/plain": [
       "<matplotlib.axes._subplots.AxesSubplot at 0x7f033acb7cf8>"
      ]
     },
     "execution_count": 50,
     "metadata": {},
     "output_type": "execute_result"
    },
    {
     "data": {
      "image/png": "[encoded data removed]",
      "text/plain": [
       "<Figure size 432x288 with 1 Axes>"
      ]
     },
     "metadata": {
      "needs_background": "light"
     },
     "output_type": "display_data"
    }
   ],
   "source": [
    "#테스트 결과\n",
    "ds_accuracy1\n",
    "#그래프 생성\n",
    "ds_accuracy1.set_index(\"NumberofTree\",inplace=False).plot.line()"
   ]
  },
  {
   "cell_type": "markdown",
   "metadata": {},
   "source": [
    "#### 10개정도의 트리 갯수가 테스트셋에서 가장 높은 정확도를 가지고 있다."
   ]
  },
  {
   "cell_type": "code",
   "execution_count": 56,
   "metadata": {},
   "outputs": [],
   "source": [
    "# train 및 test 정확도 결과 저장용\n",
    "train_accuracy = []\n",
    "test_accuracy = []\n",
    "# 적용가능한 criterion: gini, entropy\n",
    "para_max_depth = [i+1 for i in range(20)]*2\n",
    "n_iter_depth = 20\n",
    "# criterio 10개씩 리스트 생성\n",
    "para_criterion = [\"gini\"]*n_iter_depth + [\"entropy\"] * n_iter_depth\n",
    "# criterion: gini, entropy & max_depth: 1~30까지 반복 실행\n",
    "\n",
    "for (criterion, depth) in zip(para_criterion,para_max_depth):\n",
    "    rf3 = RandomForestClassifier(criterion = criterion,max_depth=depth, random_state=1234)\n",
    "    rf3.fit(b_train_x, b_train_y)\n",
    "    train_accuracy.append(rf3.score(b_train_x, b_train_y))\n",
    "    test_accuracy.append(rf3.score(b_test_x, b_test_y))\n",
    "# 저장된 모델의 criterion 및 train/test 데이터 분류 정확도 테이블 생성\n",
    "ds_accuracy3 = pd.DataFrame()\n",
    "ds_accuracy3[\"Criterion\"] = para_criterion\n",
    "ds_accuracy3[\"Depth\"] = para_max_depth\n",
    "ds_accuracy3[\"TrainAccuracy\"] = train_accuracy\n",
    "ds_accuracy3[\"TestAccuracy\"] = test_accuracy\n",
    "#ds_accuracy3.round(5)"
   ]
  },
  {
   "cell_type": "code",
   "execution_count": 57,
   "metadata": {},
   "outputs": [
    {
     "data": {
      "text/plain": [
       "<matplotlib.axes._subplots.AxesSubplot at 0x7f033643f518>"
      ]
     },
     "execution_count": 57,
     "metadata": {},
     "output_type": "execute_result"
    },
    {
     "data": {
      "image/png": "[encoded data removed]",
      "text/plain": [
       "<Figure size 432x288 with 1 Axes>"
      ]
     },
     "metadata": {
      "needs_background": "light"
     },
     "output_type": "display_data"
    }
   ],
   "source": [
    "#그래프생성 \n",
    "accuracy3_melt = pd.melt(ds_accuracy3, id_vars=[\"Criterion\",\"Depth\"])\n",
    "accuracy3_melt[\"Accuracy\"] = accuracy3_melt[\"Criterion\"] + \"_\" + accuracy3_melt[\"variable\"]\n",
    "sns.lineplot( x= \"Depth\", y=\"value\", hue =\"Accuracy\", data = accuracy3_melt)"
   ]
  },
  {
   "cell_type": "markdown",
   "metadata": {},
   "source": [
    "#### entropy index의 깊이 5가 높은 정확성을 보여준다. 깊이 5의 entropy index를 이용하여 모델을 만들어 보겠다."
   ]
  },
  {
   "cell_type": "code",
   "execution_count": 58,
   "metadata": {},
   "outputs": [
    {
     "data": {
      "text/plain": [
       "<matplotlib.axes._subplots.AxesSubplot at 0x7f0336263198>"
      ]
     },
     "execution_count": 58,
     "metadata": {},
     "output_type": "execute_result"
    },
    {
     "data": {
      "image/png": "[encoded data removed]",
      "text/plain": [
       "<Figure size 432x288 with 1 Axes>"
      ]
     },
     "metadata": {
      "needs_background": "light"
     },
     "output_type": "display_data"
    }
   ],
   "source": [
    "train_accuracy =[]; test_accuracy =[]\n",
    "\n",
    "n_depth = 5\n",
    "n_iter_min_leaf_size =100\n",
    "\n",
    "para_criterion= [\"entropy\"] *n_iter_min_leaf_size\n",
    "para_min_leaf_size = [i+1 for i in range(n_iter_min_leaf_size)]\n",
    "\n",
    "for(criterion,leafsize) in zip(para_criterion, para_min_leaf_size):\n",
    "    rf4 = RandomForestClassifier(criterion = criterion, max_depth = n_depth, min_samples_leaf = leafsize,random_state = 1234)\n",
    "    rf4.fit(b_train_x, b_train_y)\n",
    "    \n",
    "    train_accuracy.append(rf4.score(b_train_x, b_train_y))\n",
    "    test_accuracy.append(rf4.score(b_test_x, b_test_y))\n",
    "accuracy4= pd.DataFrame()\n",
    "accuracy4[\"Criterion\"] = para_criterion\n",
    "accuracy4[\"Depth\"] = n_depth\n",
    "accuracy4[\"MinLeafSize\"] = para_min_leaf_size\n",
    "accuracy4[\"TrainAccuracy\"] = train_accuracy\n",
    "accuracy4[\"TestAccuracy\"] = test_accuracy\n",
    "#그래프\n",
    "accuracy4_melt = pd.melt(accuracy4, id_vars=[\"Criterion\",\"Depth\",\"MinLeafSize\"])\n",
    "accuracy4_melt[\"Accuracy\"] = accuracy4_melt[\"Criterion\"] + \"_\" + accuracy4_melt[\"variable\"]\n",
    "sns.lineplot( x= \"MinLeafSize\", y=\"value\", hue =\"Accuracy\", data = accuracy4_melt)\n"
   ]
  },
  {
   "cell_type": "markdown",
   "metadata": {},
   "source": [
    "#### MinLeafSize가 20 미만일경우 높은 정확도를 가지는것으로 보이지만 세밀하게 나눠지기 때문에 모델의 설명이 힘들다고 판단되어 정확도는 조금 낮추지만 MinLeafSize가 큰것으로 선택하는게 나을것이라고 판단된다. MinleafSize는 30개정도가 좋을것으로 판단된다."
   ]
  },
  {
   "cell_type": "code",
   "execution_count": 40,
   "metadata": {},
   "outputs": [
    {
     "data": {
      "image/png": "[encoded data removed]",
      "text/plain": [
       "<Figure size 432x288 with 1 Axes>"
      ]
     },
     "metadata": {
      "needs_background": "light"
     },
     "output_type": "display_data"
    }
   ],
   "source": [
    "rf_model = RandomForestClassifier(criterion = \"gini\", max_depth= 5, min_samples_leaf = 30, \\\n",
    "                                  n_estimators = 10, random_state= 1234)\n",
    "rf_model.fit(b_train_x, b_train_y)\n",
    "\n",
    "feature_importance = pd.DataFrame()\n",
    "feature_importance[\"feature\"] = b_train_x.columns\n",
    "feature_importance[\"importance\"] = rf_model.feature_importances_\n",
    "feature_importance.sort_values( by = \"importance\" , ascending = False)\n",
    "\n",
    "def plot_feature_importance(model):\n",
    "    n_features = b_train_x.shape[1]\n",
    "    plt.barh(range(n_features), model.feature_importances_ , align= \"center\")\n",
    "    plt.yticks(np.arange(n_features), b_train_x.columns)\n",
    "    plt.xlabel(\"importance of explanatory variable\")\n",
    "    plt.ylabel(\"explanatory variable\")\n",
    "    plt.ylim(-1, n_features)\n",
    "    \n",
    "plot_feature_importance(rf_model)"
   ]
  },
  {
   "cell_type": "markdown",
   "metadata": {},
   "source": [
    "#### 모델에서 가장중요한 변수로 worst perimeter를 가르키고 있다."
   ]
  },
  {
   "cell_type": "code",
   "execution_count": 34,
   "metadata": {},
   "outputs": [],
   "source": [
    "finalModel = RandomForestClassifier(criterion = \"entropy\", max_depth = 5, min_samples_leaf = 30,random_state = 1234)"
   ]
  },
  {
   "cell_type": "code",
   "execution_count": 35,
   "metadata": {},
   "outputs": [
    {
     "data": {
      "text/plain": [
       "RandomForestClassifier(bootstrap=True, class_weight=None, criterion='entropy',\n",
       "            max_depth=5, max_features='auto', max_leaf_nodes=None,\n",
       "            min_impurity_decrease=0.0, min_impurity_split=None,\n",
       "            min_samples_leaf=30, min_samples_split=2,\n",
       "            min_weight_fraction_leaf=0.0, n_estimators=10, n_jobs=None,\n",
       "            oob_score=False, random_state=1234, verbose=0,\n",
       "            warm_start=False)"
      ]
     },
     "execution_count": 35,
     "metadata": {},
     "output_type": "execute_result"
    }
   ],
   "source": [
    "finalModel.fit(b_train_x,b_train_y)"
   ]
  },
  {
   "cell_type": "code",
   "execution_count": 38,
   "metadata": {},
   "outputs": [
    {
     "name": "stdout",
     "output_type": "stream",
     "text": [
      "Accuracy: 0.962\n"
     ]
    }
   ],
   "source": [
    "print(\"Accuracy: {0:.3f}\".format(finalModel.score(b_test_x,b_test_y).round(3)))"
   ]
  },
  {
   "cell_type": "markdown",
   "metadata": {},
   "source": [
    "#### test set 정확도 96%를 가진다. Gridsearch로 모델링 해보겠다."
   ]
  },
  {
   "cell_type": "code",
   "execution_count": null,
   "metadata": {},
   "outputs": [],
   "source": [
    "##############GridsearchCV\n",
    "# Choose the type of classifier. \n",
    "# Choose some parameter combinations to try\n",
    "parameters = { \n",
    "              #'max_features': ['log2', 'sqrt','auto'], \n",
    "              'criterion': ['entropy', 'gini'],\n",
    "              'max_depth': list(i for i in range(1,3)), \n",
    "              'min_samples_leaf': list(i for i in range(1,180)),\n",
    "              '\n",
    "             }\n",
    "\n",
    "# Type of scoring used to compare parameter combinations\n",
    "#acc_scorer = make_scorer(accuracy_score)\n",
    "\n",
    "# Run the grid search\n",
    "grid_obj = GridSearchCV(tree_uncustomized, parameters)\n",
    "grid_obj = grid_obj.fit(b_train_x, b_train_y)\n",
    "\n",
    "# Set the clf to the best combination of parameterstree_uncustomized\n",
    "searchcv = grid_obj.best_estimator_\n",
    "\n",
    "# Fit the best algorithm to the data. \n",
    "searchcv.fit(b_train_x, b_train_y)"
   ]
  }
 ],
 "metadata": {
  "kernelspec": {
   "display_name": "Python 3",
   "language": "python",
   "name": "python3"
  },
  "language_info": {
   "codemirror_mode": {
    "name": "ipython",
    "version": 3
   },
   "file_extension": ".py",
   "mimetype": "text/x-python",
   "name": "python",
   "nbconvert_exporter": "python",
   "pygments_lexer": "ipython3",
   "version": "3.7.1"
  }
 },
 "nbformat": 4,
 "nbformat_minor": 2
}
